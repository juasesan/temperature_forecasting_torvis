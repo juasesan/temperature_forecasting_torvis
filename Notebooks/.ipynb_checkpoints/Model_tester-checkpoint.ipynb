{
 "cells": [
  {
   "cell_type": "code",
   "execution_count": 1,
   "metadata": {
    "id": "lhROu2XKY6IC"
   },
   "outputs": [],
   "source": [
    "import tensorflow as tf\n",
    "import seaborn as sns\n",
    "import numpy as np\n",
    "import pandas as pd\n",
    "import matplotlib.pyplot as plt\n",
    "%matplotlib inline\n",
    "from sklearn.preprocessing import MinMaxScaler \n",
    "from sklearn import metrics \n",
    "np.random.seed(0)"
   ]
  },
  {
   "cell_type": "code",
   "execution_count": 2,
   "metadata": {
    "id": "Cv_JvPfeY6II"
   },
   "outputs": [],
   "source": [
    "filename = '../Data/SCADA_data_WT2337.csv'\n",
    "datos=pd.read_csv(filename)"
   ]
  },
  {
   "cell_type": "code",
   "execution_count": 3,
   "metadata": {
    "id": "o722_VqtY6IJ"
   },
   "outputs": [],
   "source": [
    "import warnings\n",
    "warnings.filterwarnings('ignore')"
   ]
  },
  {
   "cell_type": "code",
   "execution_count": 4,
   "metadata": {
    "id": "UtwVFNf6Y6IK"
   },
   "outputs": [],
   "source": [
    "df = pd.DataFrame({'date_time': datos['date_time'] ,'TempEjeLento_1': datos['TempEjeLento_1'], 'TempAmbMean': datos['TempAmbMean'], 'TempRodamMultipMean': datos['TempRodamMultipMean'], 'TempCojLAMean': datos['TempCojLAMean'],'TempCojLOAMean': datos['TempCojLOAMean'], 'TempGenMean': datos['TempGenMean'], 'PotMean': datos['PotMean'], 'VelRotorMean': datos['VelRotorMean']})\n",
    "cols = df.columns.tolist()"
   ]
  },
  {
   "cell_type": "code",
   "execution_count": 5,
   "metadata": {
    "id": "8c_KR6IzY6IK"
   },
   "outputs": [],
   "source": [
    "#PotMean\n",
    "df['PotMean'][df['PotMean']< 0] = None\n",
    "df['PotMean'][df['PotMean']> 2000] = None\n",
    "#TempAmbMean\n",
    "df['TempAmbMean'][df['TempAmbMean']< -5] = None\n",
    "df['TempAmbMean'][df['TempAmbMean']> 40] = None\n",
    "#TempCojLAMean\n",
    "df['TempCojLAMean'][df['TempCojLAMean']< 0] = None\n",
    "df['TempCojLAMean'][df['TempCojLAMean']> 120] = None\n",
    "#TempCojLOAMean\n",
    "df['TempCojLOAMean'][df['TempCojLOAMean']< 0] = None\n",
    "df['TempCojLOAMean'][df['TempCojLOAMean']> 120] = None\n",
    "#TempEjeLento_1\n",
    "df['TempEjeLento_1'][df['TempEjeLento_1']< 0] = None\n",
    "df['TempEjeLento_1'][df['TempEjeLento_1']> 120] = None\n",
    "#TempGenMean\n",
    "df['TempGenMean'][df['TempGenMean']< 0] = None\n",
    "df['TempGenMean'][df['TempGenMean']> 175] = None\n",
    "#TempRodamMultipMean\n",
    "df['TempRodamMultipMean'][df['TempRodamMultipMean']< 0] = None\n",
    "df['TempRodamMultipMean'][df['TempRodamMultipMean']> 120] = None\n",
    "#VelRotorMean\n",
    "df['VelRotorMean'][df['VelRotorMean']< 0] = None\n",
    "df['VelRotorMean'][df['VelRotorMean']> 50] = None"
   ]
  },
  {
   "cell_type": "code",
   "execution_count": 6,
   "metadata": {
    "id": "9UcDXrqyY6IL"
   },
   "outputs": [],
   "source": [
    "df['TempAmbMean']=df['TempAmbMean'].interpolate(method='pchip', order=3, limit_area='inside')\n",
    "df['TempAmbMean']=df['TempAmbMean'].fillna(method='backfill')\n",
    "df['TempAmbMean']=df['TempAmbMean'].fillna(method='ffill')\n",
    "\n",
    "df['TempEjeLento_1']=df['TempEjeLento_1'].interpolate(method='pchip', order=3)\n",
    "df['TempEjeLento_1']=df['TempEjeLento_1'].fillna(method='backfill')\n",
    "\n",
    "df['TempRodamMultipMean']=df['TempRodamMultipMean'].interpolate(method='pchip', order=3)\n",
    "df['TempRodamMultipMean']=df['TempRodamMultipMean'].fillna(method='backfill')\n",
    "\n",
    "df['TempCojLAMean']=df['TempCojLAMean'].interpolate(method='pchip', order=3)\n",
    "df['TempCojLAMean']=df['TempCojLAMean'].fillna(method='backfill')\n",
    "\n",
    "df['TempCojLOAMean']=df['TempCojLOAMean'].interpolate(method='pchip', order=3)\n",
    "df['TempCojLOAMean']=df['TempCojLOAMean'].fillna(method='backfill')\n",
    "\n",
    "df['TempGenMean']=df['TempGenMean'].interpolate(method='pchip', order=3)\n",
    "df['TempGenMean']=df['TempGenMean'].fillna(method='backfill')\n",
    "\n",
    "df['PotMean']=df['PotMean'].interpolate(method='pchip', order=3)\n",
    "df['PotMean']=df['PotMean'].fillna(method='backfill')\n",
    "\n",
    "df['VelRotorMean']=df['VelRotorMean'].interpolate(method='pchip', order=3)\n",
    "df['VelRotorMean']=df['VelRotorMean'].fillna(method='backfill')\n",
    "\n",
    "df['TempEjeLento_1']=df['TempEjeLento_1'].fillna(method='ffill')\n",
    "df['TempRodamMultipMean']=df['TempRodamMultipMean'].fillna(method='ffill')\n",
    "df['TempCojLAMean']=df['TempCojLAMean'].fillna(method='ffill')\n",
    "df['TempCojLOAMean']=df['TempCojLOAMean'].fillna(method='ffill')\n",
    "df['TempGenMean']=df['TempGenMean'].fillna(method='ffill')\n",
    "df['PotMean']=df['PotMean'].fillna(method='ffill')\n",
    "df['VelRotorMean']=df['VelRotorMean'].fillna(method='ffill')"
   ]
  },
  {
   "cell_type": "code",
   "execution_count": 7,
   "metadata": {
    "id": "-574LmAmY6IM"
   },
   "outputs": [],
   "source": [
    "df.reset_index(drop=True, inplace=True)"
   ]
  },
  {
   "cell_type": "code",
   "execution_count": 8,
   "metadata": {
    "id": "LFnkatFeY6IN"
   },
   "outputs": [],
   "source": [
    "datos_listos=df.copy()"
   ]
  },
  {
   "cell_type": "code",
   "execution_count": 9,
   "metadata": {
    "colab": {
     "base_uri": "https://localhost:8080/",
     "height": 424
    },
    "id": "5GaqEYMvY6IO",
    "outputId": "996e2bda-e70b-4f35-d260-c58015a1837c"
   },
   "outputs": [
    {
     "data": {
      "text/html": [
       "<div>\n",
       "<style scoped>\n",
       "    .dataframe tbody tr th:only-of-type {\n",
       "        vertical-align: middle;\n",
       "    }\n",
       "\n",
       "    .dataframe tbody tr th {\n",
       "        vertical-align: top;\n",
       "    }\n",
       "\n",
       "    .dataframe thead th {\n",
       "        text-align: right;\n",
       "    }\n",
       "</style>\n",
       "<table border=\"1\" class=\"dataframe\">\n",
       "  <thead>\n",
       "    <tr style=\"text-align: right;\">\n",
       "      <th></th>\n",
       "      <th>TempEjeLento_1</th>\n",
       "      <th>date_time</th>\n",
       "    </tr>\n",
       "  </thead>\n",
       "  <tbody>\n",
       "    <tr>\n",
       "      <th>0</th>\n",
       "      <td>1.999570e+01</td>\n",
       "      <td>2013-01-01 00:10:00.0</td>\n",
       "    </tr>\n",
       "    <tr>\n",
       "      <th>1</th>\n",
       "      <td>1.999570e+01</td>\n",
       "      <td>2013-01-01 00:20:00.0</td>\n",
       "    </tr>\n",
       "    <tr>\n",
       "      <th>2</th>\n",
       "      <td>1.999570e+01</td>\n",
       "      <td>2013-01-01 00:30:00.0</td>\n",
       "    </tr>\n",
       "    <tr>\n",
       "      <th>3</th>\n",
       "      <td>1.999570e+01</td>\n",
       "      <td>2013-01-01 00:40:00.0</td>\n",
       "    </tr>\n",
       "    <tr>\n",
       "      <th>4</th>\n",
       "      <td>1.999570e+01</td>\n",
       "      <td>2013-01-01 00:50:00.0</td>\n",
       "    </tr>\n",
       "    <tr>\n",
       "      <th>...</th>\n",
       "      <td>...</td>\n",
       "      <td>...</td>\n",
       "    </tr>\n",
       "    <tr>\n",
       "      <th>358128</th>\n",
       "      <td>8.684532e+08</td>\n",
       "      <td>2019-10-28 00:10:00.0</td>\n",
       "    </tr>\n",
       "    <tr>\n",
       "      <th>358129</th>\n",
       "      <td>8.685083e+08</td>\n",
       "      <td>2019-10-28 00:20:00.0</td>\n",
       "    </tr>\n",
       "    <tr>\n",
       "      <th>358130</th>\n",
       "      <td>8.685633e+08</td>\n",
       "      <td>2019-10-28 00:30:00.0</td>\n",
       "    </tr>\n",
       "    <tr>\n",
       "      <th>358131</th>\n",
       "      <td>8.686183e+08</td>\n",
       "      <td>2019-10-28 00:40:00.0</td>\n",
       "    </tr>\n",
       "    <tr>\n",
       "      <th>358132</th>\n",
       "      <td>8.686734e+08</td>\n",
       "      <td>2019-10-28 00:50:00.0</td>\n",
       "    </tr>\n",
       "  </tbody>\n",
       "</table>\n",
       "<p>358133 rows × 2 columns</p>\n",
       "</div>"
      ],
      "text/plain": [
       "        TempEjeLento_1              date_time\n",
       "0         1.999570e+01  2013-01-01 00:10:00.0\n",
       "1         1.999570e+01  2013-01-01 00:20:00.0\n",
       "2         1.999570e+01  2013-01-01 00:30:00.0\n",
       "3         1.999570e+01  2013-01-01 00:40:00.0\n",
       "4         1.999570e+01  2013-01-01 00:50:00.0\n",
       "...                ...                    ...\n",
       "358128    8.684532e+08  2019-10-28 00:10:00.0\n",
       "358129    8.685083e+08  2019-10-28 00:20:00.0\n",
       "358130    8.685633e+08  2019-10-28 00:30:00.0\n",
       "358131    8.686183e+08  2019-10-28 00:40:00.0\n",
       "358132    8.686734e+08  2019-10-28 00:50:00.0\n",
       "\n",
       "[358133 rows x 2 columns]"
      ]
     },
     "execution_count": 9,
     "metadata": {},
     "output_type": "execute_result"
    }
   ],
   "source": [
    "datos_t=pd.DataFrame({ 'TempEjeLento_1':df['TempEjeLento_1'],'date_time': df['date_time'] ,})\n",
    "datos_t.drop([0], inplace=True)\n",
    "datos_t.reset_index(drop=True, inplace=True)\n",
    "datos_t"
   ]
  },
  {
   "cell_type": "code",
   "execution_count": 10,
   "metadata": {
    "colab": {
     "base_uri": "https://localhost:8080/",
     "height": 424
    },
    "id": "J819CaaeY6IP",
    "outputId": "416220ed-fda0-49be-e830-191b9d8cc37e"
   },
   "outputs": [
    {
     "data": {
      "text/html": [
       "<div>\n",
       "<style scoped>\n",
       "    .dataframe tbody tr th:only-of-type {\n",
       "        vertical-align: middle;\n",
       "    }\n",
       "\n",
       "    .dataframe tbody tr th {\n",
       "        vertical-align: top;\n",
       "    }\n",
       "\n",
       "    .dataframe thead th {\n",
       "        text-align: right;\n",
       "    }\n",
       "</style>\n",
       "<table border=\"1\" class=\"dataframe\">\n",
       "  <thead>\n",
       "    <tr style=\"text-align: right;\">\n",
       "      <th></th>\n",
       "      <th>TempEjeLento_1-1</th>\n",
       "      <th>TempAmbMean-1</th>\n",
       "      <th>TempRodamMultipMean-1</th>\n",
       "      <th>TempCojLOAMean-1</th>\n",
       "      <th>TempGenMean-1</th>\n",
       "      <th>PotMean-1</th>\n",
       "      <th>VelRotorMean-1</th>\n",
       "    </tr>\n",
       "  </thead>\n",
       "  <tbody>\n",
       "    <tr>\n",
       "      <th>0</th>\n",
       "      <td>1.999570e+01</td>\n",
       "      <td>2.39048</td>\n",
       "      <td>64.1288</td>\n",
       "      <td>18.8788</td>\n",
       "      <td>38.4616</td>\n",
       "      <td>229.510</td>\n",
       "      <td>12.1639</td>\n",
       "    </tr>\n",
       "    <tr>\n",
       "      <th>1</th>\n",
       "      <td>1.999570e+01</td>\n",
       "      <td>2.39048</td>\n",
       "      <td>64.1288</td>\n",
       "      <td>18.8788</td>\n",
       "      <td>38.4616</td>\n",
       "      <td>229.510</td>\n",
       "      <td>12.1639</td>\n",
       "    </tr>\n",
       "    <tr>\n",
       "      <th>2</th>\n",
       "      <td>1.999570e+01</td>\n",
       "      <td>2.39048</td>\n",
       "      <td>64.1288</td>\n",
       "      <td>18.8788</td>\n",
       "      <td>38.4616</td>\n",
       "      <td>229.510</td>\n",
       "      <td>12.1639</td>\n",
       "    </tr>\n",
       "    <tr>\n",
       "      <th>3</th>\n",
       "      <td>1.999570e+01</td>\n",
       "      <td>2.39048</td>\n",
       "      <td>64.1288</td>\n",
       "      <td>18.8788</td>\n",
       "      <td>38.4616</td>\n",
       "      <td>229.510</td>\n",
       "      <td>12.1639</td>\n",
       "    </tr>\n",
       "    <tr>\n",
       "      <th>4</th>\n",
       "      <td>1.999570e+01</td>\n",
       "      <td>2.39048</td>\n",
       "      <td>64.1288</td>\n",
       "      <td>18.8788</td>\n",
       "      <td>38.4616</td>\n",
       "      <td>229.510</td>\n",
       "      <td>12.1639</td>\n",
       "    </tr>\n",
       "    <tr>\n",
       "      <th>...</th>\n",
       "      <td>...</td>\n",
       "      <td>...</td>\n",
       "      <td>...</td>\n",
       "      <td>...</td>\n",
       "      <td>...</td>\n",
       "      <td>...</td>\n",
       "      <td>...</td>\n",
       "    </tr>\n",
       "    <tr>\n",
       "      <th>358128</th>\n",
       "      <td>8.683982e+08</td>\n",
       "      <td>18.02380</td>\n",
       "      <td>57.0572</td>\n",
       "      <td>36.1502</td>\n",
       "      <td>50.8232</td>\n",
       "      <td>153.996</td>\n",
       "      <td>11.7559</td>\n",
       "    </tr>\n",
       "    <tr>\n",
       "      <th>358129</th>\n",
       "      <td>8.684532e+08</td>\n",
       "      <td>17.96310</td>\n",
       "      <td>58.0939</td>\n",
       "      <td>36.2752</td>\n",
       "      <td>51.2622</td>\n",
       "      <td>190.546</td>\n",
       "      <td>12.1454</td>\n",
       "    </tr>\n",
       "    <tr>\n",
       "      <th>358130</th>\n",
       "      <td>8.685083e+08</td>\n",
       "      <td>17.90240</td>\n",
       "      <td>59.1305</td>\n",
       "      <td>36.4003</td>\n",
       "      <td>51.7013</td>\n",
       "      <td>190.080</td>\n",
       "      <td>12.1656</td>\n",
       "    </tr>\n",
       "    <tr>\n",
       "      <th>358131</th>\n",
       "      <td>8.685633e+08</td>\n",
       "      <td>17.84170</td>\n",
       "      <td>60.1671</td>\n",
       "      <td>36.5253</td>\n",
       "      <td>52.1404</td>\n",
       "      <td>164.409</td>\n",
       "      <td>11.9320</td>\n",
       "    </tr>\n",
       "    <tr>\n",
       "      <th>358132</th>\n",
       "      <td>8.686183e+08</td>\n",
       "      <td>17.78090</td>\n",
       "      <td>61.2038</td>\n",
       "      <td>36.6503</td>\n",
       "      <td>52.5794</td>\n",
       "      <td>171.453</td>\n",
       "      <td>11.9673</td>\n",
       "    </tr>\n",
       "  </tbody>\n",
       "</table>\n",
       "<p>358133 rows × 7 columns</p>\n",
       "</div>"
      ],
      "text/plain": [
       "        TempEjeLento_1-1  TempAmbMean-1  TempRodamMultipMean-1  \\\n",
       "0           1.999570e+01        2.39048                64.1288   \n",
       "1           1.999570e+01        2.39048                64.1288   \n",
       "2           1.999570e+01        2.39048                64.1288   \n",
       "3           1.999570e+01        2.39048                64.1288   \n",
       "4           1.999570e+01        2.39048                64.1288   \n",
       "...                  ...            ...                    ...   \n",
       "358128      8.683982e+08       18.02380                57.0572   \n",
       "358129      8.684532e+08       17.96310                58.0939   \n",
       "358130      8.685083e+08       17.90240                59.1305   \n",
       "358131      8.685633e+08       17.84170                60.1671   \n",
       "358132      8.686183e+08       17.78090                61.2038   \n",
       "\n",
       "        TempCojLOAMean-1  TempGenMean-1  PotMean-1  VelRotorMean-1  \n",
       "0                18.8788        38.4616    229.510         12.1639  \n",
       "1                18.8788        38.4616    229.510         12.1639  \n",
       "2                18.8788        38.4616    229.510         12.1639  \n",
       "3                18.8788        38.4616    229.510         12.1639  \n",
       "4                18.8788        38.4616    229.510         12.1639  \n",
       "...                  ...            ...        ...             ...  \n",
       "358128           36.1502        50.8232    153.996         11.7559  \n",
       "358129           36.2752        51.2622    190.546         12.1454  \n",
       "358130           36.4003        51.7013    190.080         12.1656  \n",
       "358131           36.5253        52.1404    164.409         11.9320  \n",
       "358132           36.6503        52.5794    171.453         11.9673  \n",
       "\n",
       "[358133 rows x 7 columns]"
      ]
     },
     "execution_count": 10,
     "metadata": {},
     "output_type": "execute_result"
    }
   ],
   "source": [
    "datos_tmenos1=pd.DataFrame({'TempEjeLento_1-1': df['TempEjeLento_1'],'TempAmbMean-1': df['TempAmbMean'], 'TempRodamMultipMean-1': df['TempRodamMultipMean'],'TempCojLOAMean-1': df['TempCojLOAMean'], 'TempGenMean-1': df['TempGenMean'], 'PotMean-1': df['PotMean'], 'VelRotorMean-1': df['VelRotorMean']})\n",
    "datos_tmenos1.drop([len(df['VelRotorMean'])-1], inplace=True)\n",
    "datos_tmenos1.reset_index(drop=True, inplace=True)\n",
    "datos_tmenos1"
   ]
  },
  {
   "cell_type": "code",
   "execution_count": 11,
   "metadata": {
    "colab": {
     "base_uri": "https://localhost:8080/",
     "height": 659
    },
    "id": "k6vMWD4jY6IQ",
    "outputId": "6cddf499-1bc4-4244-c702-f9d7ba278dcb"
   },
   "outputs": [
    {
     "data": {
      "text/html": [
       "<div>\n",
       "<style scoped>\n",
       "    .dataframe tbody tr th:only-of-type {\n",
       "        vertical-align: middle;\n",
       "    }\n",
       "\n",
       "    .dataframe tbody tr th {\n",
       "        vertical-align: top;\n",
       "    }\n",
       "\n",
       "    .dataframe thead th {\n",
       "        text-align: right;\n",
       "    }\n",
       "</style>\n",
       "<table border=\"1\" class=\"dataframe\">\n",
       "  <thead>\n",
       "    <tr style=\"text-align: right;\">\n",
       "      <th></th>\n",
       "      <th>date_time</th>\n",
       "      <th>TempEjeLento_1-1</th>\n",
       "      <th>TempAmbMean-1</th>\n",
       "      <th>TempRodamMultipMean-1</th>\n",
       "      <th>TempCojLOAMean-1</th>\n",
       "      <th>TempGenMean-1</th>\n",
       "      <th>PotMean-1</th>\n",
       "      <th>VelRotorMean-1</th>\n",
       "      <th>TempEjeLento_1</th>\n",
       "    </tr>\n",
       "  </thead>\n",
       "  <tbody>\n",
       "    <tr>\n",
       "      <th>0</th>\n",
       "      <td>2013-01-01 00:10:00.0</td>\n",
       "      <td>1.999570e+01</td>\n",
       "      <td>2.39048</td>\n",
       "      <td>64.1288</td>\n",
       "      <td>18.8788</td>\n",
       "      <td>38.4616</td>\n",
       "      <td>229.510</td>\n",
       "      <td>12.1639</td>\n",
       "      <td>1.999570e+01</td>\n",
       "    </tr>\n",
       "    <tr>\n",
       "      <th>1</th>\n",
       "      <td>2013-01-01 00:20:00.0</td>\n",
       "      <td>1.999570e+01</td>\n",
       "      <td>2.39048</td>\n",
       "      <td>64.1288</td>\n",
       "      <td>18.8788</td>\n",
       "      <td>38.4616</td>\n",
       "      <td>229.510</td>\n",
       "      <td>12.1639</td>\n",
       "      <td>1.999570e+01</td>\n",
       "    </tr>\n",
       "    <tr>\n",
       "      <th>2</th>\n",
       "      <td>2013-01-01 00:30:00.0</td>\n",
       "      <td>1.999570e+01</td>\n",
       "      <td>2.39048</td>\n",
       "      <td>64.1288</td>\n",
       "      <td>18.8788</td>\n",
       "      <td>38.4616</td>\n",
       "      <td>229.510</td>\n",
       "      <td>12.1639</td>\n",
       "      <td>1.999570e+01</td>\n",
       "    </tr>\n",
       "    <tr>\n",
       "      <th>3</th>\n",
       "      <td>2013-01-01 00:40:00.0</td>\n",
       "      <td>1.999570e+01</td>\n",
       "      <td>2.39048</td>\n",
       "      <td>64.1288</td>\n",
       "      <td>18.8788</td>\n",
       "      <td>38.4616</td>\n",
       "      <td>229.510</td>\n",
       "      <td>12.1639</td>\n",
       "      <td>1.999570e+01</td>\n",
       "    </tr>\n",
       "    <tr>\n",
       "      <th>4</th>\n",
       "      <td>2013-01-01 00:50:00.0</td>\n",
       "      <td>1.999570e+01</td>\n",
       "      <td>2.39048</td>\n",
       "      <td>64.1288</td>\n",
       "      <td>18.8788</td>\n",
       "      <td>38.4616</td>\n",
       "      <td>229.510</td>\n",
       "      <td>12.1639</td>\n",
       "      <td>1.999570e+01</td>\n",
       "    </tr>\n",
       "    <tr>\n",
       "      <th>...</th>\n",
       "      <td>...</td>\n",
       "      <td>...</td>\n",
       "      <td>...</td>\n",
       "      <td>...</td>\n",
       "      <td>...</td>\n",
       "      <td>...</td>\n",
       "      <td>...</td>\n",
       "      <td>...</td>\n",
       "      <td>...</td>\n",
       "    </tr>\n",
       "    <tr>\n",
       "      <th>358128</th>\n",
       "      <td>2019-10-28 00:10:00.0</td>\n",
       "      <td>8.683982e+08</td>\n",
       "      <td>18.02380</td>\n",
       "      <td>57.0572</td>\n",
       "      <td>36.1502</td>\n",
       "      <td>50.8232</td>\n",
       "      <td>153.996</td>\n",
       "      <td>11.7559</td>\n",
       "      <td>8.684532e+08</td>\n",
       "    </tr>\n",
       "    <tr>\n",
       "      <th>358129</th>\n",
       "      <td>2019-10-28 00:20:00.0</td>\n",
       "      <td>8.684532e+08</td>\n",
       "      <td>17.96310</td>\n",
       "      <td>58.0939</td>\n",
       "      <td>36.2752</td>\n",
       "      <td>51.2622</td>\n",
       "      <td>190.546</td>\n",
       "      <td>12.1454</td>\n",
       "      <td>8.685083e+08</td>\n",
       "    </tr>\n",
       "    <tr>\n",
       "      <th>358130</th>\n",
       "      <td>2019-10-28 00:30:00.0</td>\n",
       "      <td>8.685083e+08</td>\n",
       "      <td>17.90240</td>\n",
       "      <td>59.1305</td>\n",
       "      <td>36.4003</td>\n",
       "      <td>51.7013</td>\n",
       "      <td>190.080</td>\n",
       "      <td>12.1656</td>\n",
       "      <td>8.685633e+08</td>\n",
       "    </tr>\n",
       "    <tr>\n",
       "      <th>358131</th>\n",
       "      <td>2019-10-28 00:40:00.0</td>\n",
       "      <td>8.685633e+08</td>\n",
       "      <td>17.84170</td>\n",
       "      <td>60.1671</td>\n",
       "      <td>36.5253</td>\n",
       "      <td>52.1404</td>\n",
       "      <td>164.409</td>\n",
       "      <td>11.9320</td>\n",
       "      <td>8.686183e+08</td>\n",
       "    </tr>\n",
       "    <tr>\n",
       "      <th>358132</th>\n",
       "      <td>2019-10-28 00:50:00.0</td>\n",
       "      <td>8.686183e+08</td>\n",
       "      <td>17.78090</td>\n",
       "      <td>61.2038</td>\n",
       "      <td>36.6503</td>\n",
       "      <td>52.5794</td>\n",
       "      <td>171.453</td>\n",
       "      <td>11.9673</td>\n",
       "      <td>8.686734e+08</td>\n",
       "    </tr>\n",
       "  </tbody>\n",
       "</table>\n",
       "<p>358133 rows × 9 columns</p>\n",
       "</div>"
      ],
      "text/plain": [
       "                    date_time  TempEjeLento_1-1  TempAmbMean-1  \\\n",
       "0       2013-01-01 00:10:00.0      1.999570e+01        2.39048   \n",
       "1       2013-01-01 00:20:00.0      1.999570e+01        2.39048   \n",
       "2       2013-01-01 00:30:00.0      1.999570e+01        2.39048   \n",
       "3       2013-01-01 00:40:00.0      1.999570e+01        2.39048   \n",
       "4       2013-01-01 00:50:00.0      1.999570e+01        2.39048   \n",
       "...                       ...               ...            ...   \n",
       "358128  2019-10-28 00:10:00.0      8.683982e+08       18.02380   \n",
       "358129  2019-10-28 00:20:00.0      8.684532e+08       17.96310   \n",
       "358130  2019-10-28 00:30:00.0      8.685083e+08       17.90240   \n",
       "358131  2019-10-28 00:40:00.0      8.685633e+08       17.84170   \n",
       "358132  2019-10-28 00:50:00.0      8.686183e+08       17.78090   \n",
       "\n",
       "        TempRodamMultipMean-1  TempCojLOAMean-1  TempGenMean-1  PotMean-1  \\\n",
       "0                     64.1288           18.8788        38.4616    229.510   \n",
       "1                     64.1288           18.8788        38.4616    229.510   \n",
       "2                     64.1288           18.8788        38.4616    229.510   \n",
       "3                     64.1288           18.8788        38.4616    229.510   \n",
       "4                     64.1288           18.8788        38.4616    229.510   \n",
       "...                       ...               ...            ...        ...   \n",
       "358128                57.0572           36.1502        50.8232    153.996   \n",
       "358129                58.0939           36.2752        51.2622    190.546   \n",
       "358130                59.1305           36.4003        51.7013    190.080   \n",
       "358131                60.1671           36.5253        52.1404    164.409   \n",
       "358132                61.2038           36.6503        52.5794    171.453   \n",
       "\n",
       "        VelRotorMean-1  TempEjeLento_1  \n",
       "0              12.1639    1.999570e+01  \n",
       "1              12.1639    1.999570e+01  \n",
       "2              12.1639    1.999570e+01  \n",
       "3              12.1639    1.999570e+01  \n",
       "4              12.1639    1.999570e+01  \n",
       "...                ...             ...  \n",
       "358128         11.7559    8.684532e+08  \n",
       "358129         12.1454    8.685083e+08  \n",
       "358130         12.1656    8.685633e+08  \n",
       "358131         11.9320    8.686183e+08  \n",
       "358132         11.9673    8.686734e+08  \n",
       "\n",
       "[358133 rows x 9 columns]"
      ]
     },
     "execution_count": 11,
     "metadata": {},
     "output_type": "execute_result"
    }
   ],
   "source": [
    "datos_listos=pd.DataFrame({'date_time': datos_t['date_time'], 'TempEjeLento_1-1': datos_tmenos1['TempEjeLento_1-1'],'TempAmbMean-1': datos_tmenos1['TempAmbMean-1'],'TempRodamMultipMean-1': datos_tmenos1['TempRodamMultipMean-1'],'TempCojLOAMean-1': datos_tmenos1['TempCojLOAMean-1'],'TempGenMean-1': datos_tmenos1['TempGenMean-1'], 'PotMean-1': datos_tmenos1['PotMean-1'], 'VelRotorMean-1': datos_tmenos1['VelRotorMean-1'],'TempEjeLento_1': datos_t['TempEjeLento_1']})\n",
    "datos_listos"
   ]
  },
  {
   "cell_type": "code",
   "execution_count": 12,
   "metadata": {
    "id": "_po_vGH1Y6IR"
   },
   "outputs": [],
   "source": [
    "from datetime import datetime,timedelta\n",
    "datos_listos['date_time']=pd.to_datetime(datos_listos['date_time'])"
   ]
  },
  {
   "cell_type": "code",
   "execution_count": 13,
   "metadata": {
    "id": "jgXqLCAoY6IR"
   },
   "outputs": [],
   "source": [
    "data_tv=datos_listos.copy()\n",
    "mask = ((data_tv['date_time'] >= '2017-02-06 00:00:00') & (data_tv['date_time'] < '2018-01-01 00:00:00') ) \n",
    "train_tv=data_tv.loc[mask]\n",
    "train_tv.reset_index(drop=True, inplace=True)"
   ]
  },
  {
   "cell_type": "code",
   "execution_count": 14,
   "metadata": {
    "colab": {
     "base_uri": "https://localhost:8080/"
    },
    "id": "5CpKOCKSY6IR",
    "outputId": "c2bf9225-913c-4819-9bb5-e635d0465f81"
   },
   "outputs": [
    {
     "data": {
      "text/plain": [
       "42624"
      ]
     },
     "execution_count": 14,
     "metadata": {},
     "output_type": "execute_result"
    }
   ],
   "source": [
    "longitud=len(train_tv)\n",
    "#longitud=longitud*70/100\n",
    "longitud=(longitud)/144\n",
    "longitud=longitud*90/100\n",
    "longitud=round(longitud)\n",
    "longitud=longitud*144\n",
    "longitud"
   ]
  },
  {
   "cell_type": "code",
   "execution_count": 15,
   "metadata": {
    "colab": {
     "base_uri": "https://localhost:8080/",
     "height": 659
    },
    "id": "s4GdAxYWY6IS",
    "outputId": "20909324-c5b5-4ab4-db77-092adfd54568"
   },
   "outputs": [
    {
     "data": {
      "text/html": [
       "<div>\n",
       "<style scoped>\n",
       "    .dataframe tbody tr th:only-of-type {\n",
       "        vertical-align: middle;\n",
       "    }\n",
       "\n",
       "    .dataframe tbody tr th {\n",
       "        vertical-align: top;\n",
       "    }\n",
       "\n",
       "    .dataframe thead th {\n",
       "        text-align: right;\n",
       "    }\n",
       "</style>\n",
       "<table border=\"1\" class=\"dataframe\">\n",
       "  <thead>\n",
       "    <tr style=\"text-align: right;\">\n",
       "      <th></th>\n",
       "      <th>date_time</th>\n",
       "      <th>TempEjeLento_1-1</th>\n",
       "      <th>TempAmbMean-1</th>\n",
       "      <th>TempRodamMultipMean-1</th>\n",
       "      <th>TempCojLOAMean-1</th>\n",
       "      <th>TempGenMean-1</th>\n",
       "      <th>PotMean-1</th>\n",
       "      <th>VelRotorMean-1</th>\n",
       "      <th>TempEjeLento_1</th>\n",
       "    </tr>\n",
       "  </thead>\n",
       "  <tbody>\n",
       "    <tr>\n",
       "      <th>0</th>\n",
       "      <td>2017-02-06 00:00:00</td>\n",
       "      <td>22.879502</td>\n",
       "      <td>7.43394</td>\n",
       "      <td>73.7686</td>\n",
       "      <td>35.0659</td>\n",
       "      <td>82.3580</td>\n",
       "      <td>1502.760</td>\n",
       "      <td>17.7552</td>\n",
       "      <td>22.880098</td>\n",
       "    </tr>\n",
       "    <tr>\n",
       "      <th>1</th>\n",
       "      <td>2017-02-06 00:10:00</td>\n",
       "      <td>22.880098</td>\n",
       "      <td>7.39546</td>\n",
       "      <td>73.7262</td>\n",
       "      <td>34.9930</td>\n",
       "      <td>83.0070</td>\n",
       "      <td>1521.620</td>\n",
       "      <td>17.0368</td>\n",
       "      <td>22.880692</td>\n",
       "    </tr>\n",
       "    <tr>\n",
       "      <th>2</th>\n",
       "      <td>2017-02-06 00:20:00</td>\n",
       "      <td>22.880692</td>\n",
       "      <td>7.35698</td>\n",
       "      <td>73.6839</td>\n",
       "      <td>34.9201</td>\n",
       "      <td>83.6560</td>\n",
       "      <td>1512.130</td>\n",
       "      <td>17.3090</td>\n",
       "      <td>22.881285</td>\n",
       "    </tr>\n",
       "    <tr>\n",
       "      <th>3</th>\n",
       "      <td>2017-02-06 00:30:00</td>\n",
       "      <td>22.881285</td>\n",
       "      <td>7.31849</td>\n",
       "      <td>73.6415</td>\n",
       "      <td>34.8472</td>\n",
       "      <td>84.3050</td>\n",
       "      <td>1488.260</td>\n",
       "      <td>16.8005</td>\n",
       "      <td>22.881875</td>\n",
       "    </tr>\n",
       "    <tr>\n",
       "      <th>4</th>\n",
       "      <td>2017-02-06 00:40:00</td>\n",
       "      <td>22.881875</td>\n",
       "      <td>7.28001</td>\n",
       "      <td>73.5991</td>\n",
       "      <td>34.7743</td>\n",
       "      <td>84.9540</td>\n",
       "      <td>1494.730</td>\n",
       "      <td>16.6559</td>\n",
       "      <td>22.882463</td>\n",
       "    </tr>\n",
       "    <tr>\n",
       "      <th>...</th>\n",
       "      <td>...</td>\n",
       "      <td>...</td>\n",
       "      <td>...</td>\n",
       "      <td>...</td>\n",
       "      <td>...</td>\n",
       "      <td>...</td>\n",
       "      <td>...</td>\n",
       "      <td>...</td>\n",
       "      <td>...</td>\n",
       "    </tr>\n",
       "    <tr>\n",
       "      <th>42619</th>\n",
       "      <td>2017-11-28 23:10:00</td>\n",
       "      <td>22.229200</td>\n",
       "      <td>10.87230</td>\n",
       "      <td>72.8500</td>\n",
       "      <td>29.0079</td>\n",
       "      <td>50.6938</td>\n",
       "      <td>532.308</td>\n",
       "      <td>15.5693</td>\n",
       "      <td>22.365700</td>\n",
       "    </tr>\n",
       "    <tr>\n",
       "      <th>42620</th>\n",
       "      <td>2017-11-28 23:20:00</td>\n",
       "      <td>22.365700</td>\n",
       "      <td>10.87490</td>\n",
       "      <td>72.7006</td>\n",
       "      <td>29.0459</td>\n",
       "      <td>51.2225</td>\n",
       "      <td>538.059</td>\n",
       "      <td>15.8019</td>\n",
       "      <td>22.493200</td>\n",
       "    </tr>\n",
       "    <tr>\n",
       "      <th>42621</th>\n",
       "      <td>2017-11-28 23:30:00</td>\n",
       "      <td>22.493200</td>\n",
       "      <td>10.87750</td>\n",
       "      <td>72.4397</td>\n",
       "      <td>29.0839</td>\n",
       "      <td>51.7513</td>\n",
       "      <td>655.092</td>\n",
       "      <td>16.6070</td>\n",
       "      <td>22.582200</td>\n",
       "    </tr>\n",
       "    <tr>\n",
       "      <th>42622</th>\n",
       "      <td>2017-11-28 23:40:00</td>\n",
       "      <td>22.582200</td>\n",
       "      <td>10.88000</td>\n",
       "      <td>72.1787</td>\n",
       "      <td>29.1219</td>\n",
       "      <td>52.2800</td>\n",
       "      <td>724.791</td>\n",
       "      <td>17.0285</td>\n",
       "      <td>22.666800</td>\n",
       "    </tr>\n",
       "    <tr>\n",
       "      <th>42623</th>\n",
       "      <td>2017-11-28 23:50:00</td>\n",
       "      <td>22.666800</td>\n",
       "      <td>10.88260</td>\n",
       "      <td>71.9178</td>\n",
       "      <td>29.1599</td>\n",
       "      <td>52.8088</td>\n",
       "      <td>638.085</td>\n",
       "      <td>16.1602</td>\n",
       "      <td>22.751400</td>\n",
       "    </tr>\n",
       "  </tbody>\n",
       "</table>\n",
       "<p>42624 rows × 9 columns</p>\n",
       "</div>"
      ],
      "text/plain": [
       "                date_time  TempEjeLento_1-1  TempAmbMean-1  \\\n",
       "0     2017-02-06 00:00:00         22.879502        7.43394   \n",
       "1     2017-02-06 00:10:00         22.880098        7.39546   \n",
       "2     2017-02-06 00:20:00         22.880692        7.35698   \n",
       "3     2017-02-06 00:30:00         22.881285        7.31849   \n",
       "4     2017-02-06 00:40:00         22.881875        7.28001   \n",
       "...                   ...               ...            ...   \n",
       "42619 2017-11-28 23:10:00         22.229200       10.87230   \n",
       "42620 2017-11-28 23:20:00         22.365700       10.87490   \n",
       "42621 2017-11-28 23:30:00         22.493200       10.87750   \n",
       "42622 2017-11-28 23:40:00         22.582200       10.88000   \n",
       "42623 2017-11-28 23:50:00         22.666800       10.88260   \n",
       "\n",
       "       TempRodamMultipMean-1  TempCojLOAMean-1  TempGenMean-1  PotMean-1  \\\n",
       "0                    73.7686           35.0659        82.3580   1502.760   \n",
       "1                    73.7262           34.9930        83.0070   1521.620   \n",
       "2                    73.6839           34.9201        83.6560   1512.130   \n",
       "3                    73.6415           34.8472        84.3050   1488.260   \n",
       "4                    73.5991           34.7743        84.9540   1494.730   \n",
       "...                      ...               ...            ...        ...   \n",
       "42619                72.8500           29.0079        50.6938    532.308   \n",
       "42620                72.7006           29.0459        51.2225    538.059   \n",
       "42621                72.4397           29.0839        51.7513    655.092   \n",
       "42622                72.1787           29.1219        52.2800    724.791   \n",
       "42623                71.9178           29.1599        52.8088    638.085   \n",
       "\n",
       "       VelRotorMean-1  TempEjeLento_1  \n",
       "0             17.7552       22.880098  \n",
       "1             17.0368       22.880692  \n",
       "2             17.3090       22.881285  \n",
       "3             16.8005       22.881875  \n",
       "4             16.6559       22.882463  \n",
       "...               ...             ...  \n",
       "42619         15.5693       22.365700  \n",
       "42620         15.8019       22.493200  \n",
       "42621         16.6070       22.582200  \n",
       "42622         17.0285       22.666800  \n",
       "42623         16.1602       22.751400  \n",
       "\n",
       "[42624 rows x 9 columns]"
      ]
     },
     "execution_count": 15,
     "metadata": {},
     "output_type": "execute_result"
    }
   ],
   "source": [
    "training=train_tv.loc[0:round(longitud)-1]\n",
    "training.reset_index(drop=True, inplace=True)\n",
    "training"
   ]
  },
  {
   "cell_type": "code",
   "execution_count": 16,
   "metadata": {
    "colab": {
     "base_uri": "https://localhost:8080/",
     "height": 659
    },
    "id": "3RrQfWPJY6IS",
    "outputId": "8e0b770d-84b1-4a99-ac72-89524d7a099c"
   },
   "outputs": [
    {
     "data": {
      "text/html": [
       "<div>\n",
       "<style scoped>\n",
       "    .dataframe tbody tr th:only-of-type {\n",
       "        vertical-align: middle;\n",
       "    }\n",
       "\n",
       "    .dataframe tbody tr th {\n",
       "        vertical-align: top;\n",
       "    }\n",
       "\n",
       "    .dataframe thead th {\n",
       "        text-align: right;\n",
       "    }\n",
       "</style>\n",
       "<table border=\"1\" class=\"dataframe\">\n",
       "  <thead>\n",
       "    <tr style=\"text-align: right;\">\n",
       "      <th></th>\n",
       "      <th>date_time</th>\n",
       "      <th>TempEjeLento_1-1</th>\n",
       "      <th>TempAmbMean-1</th>\n",
       "      <th>TempRodamMultipMean-1</th>\n",
       "      <th>TempCojLOAMean-1</th>\n",
       "      <th>TempGenMean-1</th>\n",
       "      <th>PotMean-1</th>\n",
       "      <th>VelRotorMean-1</th>\n",
       "      <th>TempEjeLento_1</th>\n",
       "    </tr>\n",
       "  </thead>\n",
       "  <tbody>\n",
       "    <tr>\n",
       "      <th>0</th>\n",
       "      <td>2017-11-29 00:00:00</td>\n",
       "      <td>22.7514</td>\n",
       "      <td>10.88510</td>\n",
       "      <td>71.6569</td>\n",
       "      <td>29.1979</td>\n",
       "      <td>53.3376</td>\n",
       "      <td>731.328000</td>\n",
       "      <td>17.103700</td>\n",
       "      <td>22.8360</td>\n",
       "    </tr>\n",
       "    <tr>\n",
       "      <th>1</th>\n",
       "      <td>2017-11-29 00:10:00</td>\n",
       "      <td>22.8360</td>\n",
       "      <td>10.88770</td>\n",
       "      <td>71.3959</td>\n",
       "      <td>29.1589</td>\n",
       "      <td>53.8663</td>\n",
       "      <td>743.456000</td>\n",
       "      <td>16.813000</td>\n",
       "      <td>22.9152</td>\n",
       "    </tr>\n",
       "    <tr>\n",
       "      <th>2</th>\n",
       "      <td>2017-11-29 00:20:00</td>\n",
       "      <td>22.9152</td>\n",
       "      <td>10.89020</td>\n",
       "      <td>71.1350</td>\n",
       "      <td>29.1927</td>\n",
       "      <td>54.3951</td>\n",
       "      <td>487.361000</td>\n",
       "      <td>15.450100</td>\n",
       "      <td>22.9417</td>\n",
       "    </tr>\n",
       "    <tr>\n",
       "      <th>3</th>\n",
       "      <td>2017-11-29 00:30:00</td>\n",
       "      <td>22.9417</td>\n",
       "      <td>10.89280</td>\n",
       "      <td>70.8741</td>\n",
       "      <td>29.2266</td>\n",
       "      <td>54.7146</td>\n",
       "      <td>603.615000</td>\n",
       "      <td>16.145600</td>\n",
       "      <td>22.9549</td>\n",
       "    </tr>\n",
       "    <tr>\n",
       "      <th>4</th>\n",
       "      <td>2017-11-29 00:40:00</td>\n",
       "      <td>22.9549</td>\n",
       "      <td>10.89540</td>\n",
       "      <td>70.6131</td>\n",
       "      <td>29.2604</td>\n",
       "      <td>54.8153</td>\n",
       "      <td>551.536000</td>\n",
       "      <td>15.615300</td>\n",
       "      <td>22.9682</td>\n",
       "    </tr>\n",
       "    <tr>\n",
       "      <th>...</th>\n",
       "      <td>...</td>\n",
       "      <td>...</td>\n",
       "      <td>...</td>\n",
       "      <td>...</td>\n",
       "      <td>...</td>\n",
       "      <td>...</td>\n",
       "      <td>...</td>\n",
       "      <td>...</td>\n",
       "      <td>...</td>\n",
       "    </tr>\n",
       "    <tr>\n",
       "      <th>4747</th>\n",
       "      <td>2017-12-31 23:10:00</td>\n",
       "      <td>20.2618</td>\n",
       "      <td>8.34259</td>\n",
       "      <td>58.4853</td>\n",
       "      <td>31.6632</td>\n",
       "      <td>79.7916</td>\n",
       "      <td>83.266200</td>\n",
       "      <td>2.821730</td>\n",
       "      <td>20.1293</td>\n",
       "    </tr>\n",
       "    <tr>\n",
       "      <th>4748</th>\n",
       "      <td>2017-12-31 23:20:00</td>\n",
       "      <td>20.1293</td>\n",
       "      <td>8.27274</td>\n",
       "      <td>56.0265</td>\n",
       "      <td>31.4196</td>\n",
       "      <td>78.4111</td>\n",
       "      <td>0.044976</td>\n",
       "      <td>0.367458</td>\n",
       "      <td>19.8581</td>\n",
       "    </tr>\n",
       "    <tr>\n",
       "      <th>4749</th>\n",
       "      <td>2017-12-31 23:30:00</td>\n",
       "      <td>19.8581</td>\n",
       "      <td>8.20288</td>\n",
       "      <td>53.5842</td>\n",
       "      <td>31.1759</td>\n",
       "      <td>77.0307</td>\n",
       "      <td>0.094435</td>\n",
       "      <td>0.481486</td>\n",
       "      <td>19.5864</td>\n",
       "    </tr>\n",
       "    <tr>\n",
       "      <th>4750</th>\n",
       "      <td>2017-12-31 23:40:00</td>\n",
       "      <td>19.5864</td>\n",
       "      <td>8.13303</td>\n",
       "      <td>51.1418</td>\n",
       "      <td>30.9322</td>\n",
       "      <td>75.6502</td>\n",
       "      <td>0.143894</td>\n",
       "      <td>0.275624</td>\n",
       "      <td>19.3147</td>\n",
       "    </tr>\n",
       "    <tr>\n",
       "      <th>4751</th>\n",
       "      <td>2017-12-31 23:50:00</td>\n",
       "      <td>19.3147</td>\n",
       "      <td>8.06317</td>\n",
       "      <td>48.6994</td>\n",
       "      <td>30.6886</td>\n",
       "      <td>74.2697</td>\n",
       "      <td>0.193353</td>\n",
       "      <td>0.414054</td>\n",
       "      <td>19.0430</td>\n",
       "    </tr>\n",
       "  </tbody>\n",
       "</table>\n",
       "<p>4752 rows × 9 columns</p>\n",
       "</div>"
      ],
      "text/plain": [
       "               date_time  TempEjeLento_1-1  TempAmbMean-1  \\\n",
       "0    2017-11-29 00:00:00           22.7514       10.88510   \n",
       "1    2017-11-29 00:10:00           22.8360       10.88770   \n",
       "2    2017-11-29 00:20:00           22.9152       10.89020   \n",
       "3    2017-11-29 00:30:00           22.9417       10.89280   \n",
       "4    2017-11-29 00:40:00           22.9549       10.89540   \n",
       "...                  ...               ...            ...   \n",
       "4747 2017-12-31 23:10:00           20.2618        8.34259   \n",
       "4748 2017-12-31 23:20:00           20.1293        8.27274   \n",
       "4749 2017-12-31 23:30:00           19.8581        8.20288   \n",
       "4750 2017-12-31 23:40:00           19.5864        8.13303   \n",
       "4751 2017-12-31 23:50:00           19.3147        8.06317   \n",
       "\n",
       "      TempRodamMultipMean-1  TempCojLOAMean-1  TempGenMean-1   PotMean-1  \\\n",
       "0                   71.6569           29.1979        53.3376  731.328000   \n",
       "1                   71.3959           29.1589        53.8663  743.456000   \n",
       "2                   71.1350           29.1927        54.3951  487.361000   \n",
       "3                   70.8741           29.2266        54.7146  603.615000   \n",
       "4                   70.6131           29.2604        54.8153  551.536000   \n",
       "...                     ...               ...            ...         ...   \n",
       "4747                58.4853           31.6632        79.7916   83.266200   \n",
       "4748                56.0265           31.4196        78.4111    0.044976   \n",
       "4749                53.5842           31.1759        77.0307    0.094435   \n",
       "4750                51.1418           30.9322        75.6502    0.143894   \n",
       "4751                48.6994           30.6886        74.2697    0.193353   \n",
       "\n",
       "      VelRotorMean-1  TempEjeLento_1  \n",
       "0          17.103700         22.8360  \n",
       "1          16.813000         22.9152  \n",
       "2          15.450100         22.9417  \n",
       "3          16.145600         22.9549  \n",
       "4          15.615300         22.9682  \n",
       "...              ...             ...  \n",
       "4747        2.821730         20.1293  \n",
       "4748        0.367458         19.8581  \n",
       "4749        0.481486         19.5864  \n",
       "4750        0.275624         19.3147  \n",
       "4751        0.414054         19.0430  \n",
       "\n",
       "[4752 rows x 9 columns]"
      ]
     },
     "execution_count": 16,
     "metadata": {},
     "output_type": "execute_result"
    }
   ],
   "source": [
    "validation=train_tv.loc[round(longitud):len(train_tv)]\n",
    "validation.reset_index(drop=True, inplace=True)\n",
    "validation"
   ]
  },
  {
   "cell_type": "code",
   "execution_count": 17,
   "metadata": {
    "colab": {
     "base_uri": "https://localhost:8080/",
     "height": 659
    },
    "id": "Y1J9YlhqY6IS",
    "outputId": "48a177d9-56d5-4080-9c84-0b24356a79cb"
   },
   "outputs": [
    {
     "data": {
      "text/html": [
       "<div>\n",
       "<style scoped>\n",
       "    .dataframe tbody tr th:only-of-type {\n",
       "        vertical-align: middle;\n",
       "    }\n",
       "\n",
       "    .dataframe tbody tr th {\n",
       "        vertical-align: top;\n",
       "    }\n",
       "\n",
       "    .dataframe thead th {\n",
       "        text-align: right;\n",
       "    }\n",
       "</style>\n",
       "<table border=\"1\" class=\"dataframe\">\n",
       "  <thead>\n",
       "    <tr style=\"text-align: right;\">\n",
       "      <th></th>\n",
       "      <th>date_time</th>\n",
       "      <th>TempEjeLento_1-1</th>\n",
       "      <th>TempAmbMean-1</th>\n",
       "      <th>TempRodamMultipMean-1</th>\n",
       "      <th>TempCojLOAMean-1</th>\n",
       "      <th>TempGenMean-1</th>\n",
       "      <th>PotMean-1</th>\n",
       "      <th>VelRotorMean-1</th>\n",
       "      <th>TempEjeLento_1</th>\n",
       "    </tr>\n",
       "  </thead>\n",
       "  <tbody>\n",
       "    <tr>\n",
       "      <th>0</th>\n",
       "      <td>2018-01-01 00:00:00</td>\n",
       "      <td>19.0430</td>\n",
       "      <td>7.99331</td>\n",
       "      <td>46.8007</td>\n",
       "      <td>30.4449</td>\n",
       "      <td>72.8892</td>\n",
       "      <td>0.242812</td>\n",
       "      <td>0.231295</td>\n",
       "      <td>18.7970</td>\n",
       "    </tr>\n",
       "    <tr>\n",
       "      <th>1</th>\n",
       "      <td>2018-01-01 00:10:00</td>\n",
       "      <td>18.7970</td>\n",
       "      <td>7.92346</td>\n",
       "      <td>46.2656</td>\n",
       "      <td>30.2012</td>\n",
       "      <td>71.5087</td>\n",
       "      <td>0.292271</td>\n",
       "      <td>0.332392</td>\n",
       "      <td>18.6419</td>\n",
       "    </tr>\n",
       "    <tr>\n",
       "      <th>2</th>\n",
       "      <td>2018-01-01 00:20:00</td>\n",
       "      <td>18.6419</td>\n",
       "      <td>7.85360</td>\n",
       "      <td>45.7959</td>\n",
       "      <td>29.9576</td>\n",
       "      <td>70.1282</td>\n",
       "      <td>0.341730</td>\n",
       "      <td>0.379906</td>\n",
       "      <td>18.4947</td>\n",
       "    </tr>\n",
       "    <tr>\n",
       "      <th>3</th>\n",
       "      <td>2018-01-01 00:30:00</td>\n",
       "      <td>18.4947</td>\n",
       "      <td>7.78375</td>\n",
       "      <td>45.3262</td>\n",
       "      <td>29.7139</td>\n",
       "      <td>68.7477</td>\n",
       "      <td>0.391189</td>\n",
       "      <td>0.000000</td>\n",
       "      <td>18.3476</td>\n",
       "    </tr>\n",
       "    <tr>\n",
       "      <th>4</th>\n",
       "      <td>2018-01-01 00:40:00</td>\n",
       "      <td>18.3476</td>\n",
       "      <td>7.71389</td>\n",
       "      <td>44.8565</td>\n",
       "      <td>29.4703</td>\n",
       "      <td>67.3672</td>\n",
       "      <td>0.440648</td>\n",
       "      <td>0.000000</td>\n",
       "      <td>18.2004</td>\n",
       "    </tr>\n",
       "    <tr>\n",
       "      <th>...</th>\n",
       "      <td>...</td>\n",
       "      <td>...</td>\n",
       "      <td>...</td>\n",
       "      <td>...</td>\n",
       "      <td>...</td>\n",
       "      <td>...</td>\n",
       "      <td>...</td>\n",
       "      <td>...</td>\n",
       "      <td>...</td>\n",
       "    </tr>\n",
       "    <tr>\n",
       "      <th>48091</th>\n",
       "      <td>2018-11-30 23:10:00</td>\n",
       "      <td>18.4543</td>\n",
       "      <td>6.04839</td>\n",
       "      <td>52.5553</td>\n",
       "      <td>23.4519</td>\n",
       "      <td>42.6439</td>\n",
       "      <td>59.172800</td>\n",
       "      <td>11.642600</td>\n",
       "      <td>18.4170</td>\n",
       "    </tr>\n",
       "    <tr>\n",
       "      <th>48092</th>\n",
       "      <td>2018-11-30 23:20:00</td>\n",
       "      <td>18.4170</td>\n",
       "      <td>5.99709</td>\n",
       "      <td>52.3561</td>\n",
       "      <td>23.4182</td>\n",
       "      <td>42.6022</td>\n",
       "      <td>73.653900</td>\n",
       "      <td>11.672200</td>\n",
       "      <td>18.3798</td>\n",
       "    </tr>\n",
       "    <tr>\n",
       "      <th>48093</th>\n",
       "      <td>2018-11-30 23:30:00</td>\n",
       "      <td>18.3798</td>\n",
       "      <td>5.94744</td>\n",
       "      <td>52.1570</td>\n",
       "      <td>23.3844</td>\n",
       "      <td>42.5605</td>\n",
       "      <td>62.996200</td>\n",
       "      <td>11.703200</td>\n",
       "      <td>18.3346</td>\n",
       "    </tr>\n",
       "    <tr>\n",
       "      <th>48094</th>\n",
       "      <td>2018-11-30 23:40:00</td>\n",
       "      <td>18.3346</td>\n",
       "      <td>5.92394</td>\n",
       "      <td>51.9578</td>\n",
       "      <td>23.3507</td>\n",
       "      <td>42.5188</td>\n",
       "      <td>45.085900</td>\n",
       "      <td>11.694900</td>\n",
       "      <td>18.2666</td>\n",
       "    </tr>\n",
       "    <tr>\n",
       "      <th>48095</th>\n",
       "      <td>2018-11-30 23:50:00</td>\n",
       "      <td>18.2666</td>\n",
       "      <td>5.90944</td>\n",
       "      <td>51.7586</td>\n",
       "      <td>23.3169</td>\n",
       "      <td>42.4771</td>\n",
       "      <td>48.403300</td>\n",
       "      <td>11.683900</td>\n",
       "      <td>18.1971</td>\n",
       "    </tr>\n",
       "  </tbody>\n",
       "</table>\n",
       "<p>48096 rows × 9 columns</p>\n",
       "</div>"
      ],
      "text/plain": [
       "                date_time  TempEjeLento_1-1  TempAmbMean-1  \\\n",
       "0     2018-01-01 00:00:00           19.0430        7.99331   \n",
       "1     2018-01-01 00:10:00           18.7970        7.92346   \n",
       "2     2018-01-01 00:20:00           18.6419        7.85360   \n",
       "3     2018-01-01 00:30:00           18.4947        7.78375   \n",
       "4     2018-01-01 00:40:00           18.3476        7.71389   \n",
       "...                   ...               ...            ...   \n",
       "48091 2018-11-30 23:10:00           18.4543        6.04839   \n",
       "48092 2018-11-30 23:20:00           18.4170        5.99709   \n",
       "48093 2018-11-30 23:30:00           18.3798        5.94744   \n",
       "48094 2018-11-30 23:40:00           18.3346        5.92394   \n",
       "48095 2018-11-30 23:50:00           18.2666        5.90944   \n",
       "\n",
       "       TempRodamMultipMean-1  TempCojLOAMean-1  TempGenMean-1  PotMean-1  \\\n",
       "0                    46.8007           30.4449        72.8892   0.242812   \n",
       "1                    46.2656           30.2012        71.5087   0.292271   \n",
       "2                    45.7959           29.9576        70.1282   0.341730   \n",
       "3                    45.3262           29.7139        68.7477   0.391189   \n",
       "4                    44.8565           29.4703        67.3672   0.440648   \n",
       "...                      ...               ...            ...        ...   \n",
       "48091                52.5553           23.4519        42.6439  59.172800   \n",
       "48092                52.3561           23.4182        42.6022  73.653900   \n",
       "48093                52.1570           23.3844        42.5605  62.996200   \n",
       "48094                51.9578           23.3507        42.5188  45.085900   \n",
       "48095                51.7586           23.3169        42.4771  48.403300   \n",
       "\n",
       "       VelRotorMean-1  TempEjeLento_1  \n",
       "0            0.231295         18.7970  \n",
       "1            0.332392         18.6419  \n",
       "2            0.379906         18.4947  \n",
       "3            0.000000         18.3476  \n",
       "4            0.000000         18.2004  \n",
       "...               ...             ...  \n",
       "48091       11.642600         18.4170  \n",
       "48092       11.672200         18.3798  \n",
       "48093       11.703200         18.3346  \n",
       "48094       11.694900         18.2666  \n",
       "48095       11.683900         18.1971  \n",
       "\n",
       "[48096 rows x 9 columns]"
      ]
     },
     "execution_count": 17,
     "metadata": {},
     "output_type": "execute_result"
    }
   ],
   "source": [
    "test=datos_listos.copy()\n",
    "mask = ((test['date_time'] >= '2018-01-01 00:00:00') & (test['date_time'] < '2018-12-01 00:00:00')) \n",
    "test=test.loc[mask]\n",
    "test.reset_index(drop=True, inplace=True)\n",
    "test"
   ]
  },
  {
   "cell_type": "code",
   "execution_count": 18,
   "metadata": {
    "id": "lMTXF2RnY6IT"
   },
   "outputs": [],
   "source": [
    "from numpy import array\n",
    "from numpy import hstack\n",
    "\n",
    "def datosstack(data):\n",
    "    \n",
    "        X1 = array(data['TempAmbMean-1'])\n",
    "        X2 = array(data['TempRodamMultipMean-1'])\n",
    "        #X3 = array(data['TempCojLAMean-1'])\n",
    "        X3 = array(data['TempCojLOAMean-1'])\n",
    "        X4 = array(data['TempGenMean-1'])\n",
    "        X5 = array(data['PotMean-1'])\n",
    "        X6 = array(data['VelRotorMean-1'])\n",
    "        X7 = array(data['TempEjeLento_1-1'])\n",
    "        X8 = array(data['TempEjeLento_1'])\n",
    "\n",
    "        X1 = X1.reshape((len(X1), 1))\n",
    "        X2 = X2.reshape((len(X2), 1))\n",
    "        X3 = X3.reshape((len(X3), 1))\n",
    "        X4 = X4.reshape((len(X4), 1))\n",
    "        X5 = X5.reshape((len(X5), 1))\n",
    "        X6 = X6.reshape((len(X6), 1))\n",
    "        X7 = X7.reshape((len(X7), 1))\n",
    "        X8 = X8.reshape((len(X8), 1))\n",
    "        #X9 = X8.reshape((len(X9), 1))\n",
    "        \n",
    "        dataset = hstack((X1, X2, X3, X4, X5, X6, X7, X8))            \n",
    "\n",
    "        return dataset "
   ]
  },
  {
   "cell_type": "code",
   "execution_count": 19,
   "metadata": {
    "colab": {
     "base_uri": "https://localhost:8080/"
    },
    "id": "pMHFUMuuY6IT",
    "outputId": "0e1a56f8-bfc9-4432-ddf0-489e2f9af69d"
   },
   "outputs": [
    {
     "data": {
      "text/plain": [
       "(42624, 8)"
      ]
     },
     "execution_count": 19,
     "metadata": {},
     "output_type": "execute_result"
    }
   ],
   "source": [
    "dataset_train=datosstack(training)\n",
    "dataset_validation=datosstack(validation)\n",
    "dataset_test=datosstack(test)\n",
    "\n",
    "dataset_train.shape"
   ]
  },
  {
   "cell_type": "code",
   "execution_count": 20,
   "metadata": {
    "id": "OWtOnxOwY6IU"
   },
   "outputs": [],
   "source": [
    "def split_sequences(sequences, n_steps):\n",
    "    X, y = list(), list()\n",
    "    for i in range(len(sequences)):\n",
    "        # find the end of this pattern\n",
    "        #end_ix = n_steps*i + n_steps\n",
    "        end_ix = i + n_steps\n",
    "        #start_ix = end_ix - n_steps\n",
    "        # check if we are beyond the dataset\n",
    "        if end_ix > len(sequences):\n",
    "            break\n",
    "            # gather input and output parts of the pattern\n",
    "        seq_x, seq_y = sequences[i:end_ix, :-1], sequences[end_ix-1, -1]\n",
    "        X.append(seq_x)\n",
    "        y.append(seq_y)\n",
    "    return array(X), array(y)"
   ]
  },
  {
   "cell_type": "code",
   "execution_count": 21,
   "metadata": {
    "colab": {
     "base_uri": "https://localhost:8080/"
    },
    "id": "fx6SpdWJY6IU",
    "outputId": "954640eb-82f8-49b8-bd67-a830d0e178d8"
   },
   "outputs": [
    {
     "name": "stdout",
     "output_type": "stream",
     "text": [
      "(42481, 144, 7) (42481,)\n"
     ]
    }
   ],
   "source": [
    "n_steps = 144\n",
    "xtrain, ytrain = split_sequences(dataset_train, n_steps)\n",
    "print(xtrain.shape, ytrain.shape)"
   ]
  },
  {
   "cell_type": "code",
   "execution_count": 22,
   "metadata": {
    "colab": {
     "base_uri": "https://localhost:8080/"
    },
    "id": "B-4kG6VyY6IU",
    "outputId": "ea338ae8-baab-43f5-80b2-b5862b39088d"
   },
   "outputs": [
    {
     "name": "stdout",
     "output_type": "stream",
     "text": [
      "(4609, 144, 7) (4609,)\n"
     ]
    }
   ],
   "source": [
    "xvalidation, yvalidation = split_sequences(dataset_validation, n_steps)\n",
    "print(xvalidation.shape, yvalidation.shape)"
   ]
  },
  {
   "cell_type": "code",
   "execution_count": 23,
   "metadata": {
    "colab": {
     "base_uri": "https://localhost:8080/"
    },
    "id": "gIMXOTkPY6IV",
    "outputId": "ea051062-7f80-4f5d-fa33-78cfdef3ff59"
   },
   "outputs": [
    {
     "name": "stdout",
     "output_type": "stream",
     "text": [
      "(47953, 144, 7) (47953,)\n"
     ]
    }
   ],
   "source": [
    "xtest, ytest = split_sequences(dataset_test, n_steps)\n",
    "print(xtest.shape, ytest.shape)"
   ]
  },
  {
   "cell_type": "markdown",
   "metadata": {
    "id": "zVdWyURbZ7ya"
   },
   "source": [
    "## Evaluación del modelo"
   ]
  },
  {
   "cell_type": "code",
   "execution_count": 24,
   "metadata": {
    "id": "7pzBCRi1Y6IV"
   },
   "outputs": [],
   "source": [
    "from tensorflow import keras"
   ]
  },
  {
   "cell_type": "code",
   "execution_count": 25,
   "metadata": {
    "id": "-mxcEDRZY6IY"
   },
   "outputs": [],
   "source": [
    "model = keras.models.load_model('../Models/test8_transformer.h5')"
   ]
  },
  {
   "cell_type": "code",
   "execution_count": 26,
   "metadata": {
    "colab": {
     "base_uri": "https://localhost:8080/"
    },
    "id": "pQi0iPYkY6IY",
    "outputId": "3d6b04a3-c989-4b73-c218-4ceb7dd0babb"
   },
   "outputs": [
    {
     "name": "stdout",
     "output_type": "stream",
     "text": [
      "1499/1499 [==============================] - 748s 498ms/step\n",
      "Score RMSE: 0.9606540103096158\n"
     ]
    }
   ],
   "source": [
    "pred = model.predict(xtest)\n",
    "score = np.sqrt(metrics.mean_squared_error(pred,ytest))\n",
    "print(\"Score RMSE: {}\".format(score))"
   ]
  },
  {
   "cell_type": "code",
   "execution_count": 54,
   "metadata": {},
   "outputs": [],
   "source": [
    "def diferencia(predict,test):\n",
    "    ypred = []\n",
    "    for data in predict:\n",
    "      ypred.append(data[0])\n",
    "    df_test = pd.DataFrame({'Real': list(test), 'Prediction': ypred})\n",
    "    df_test['Difference'] = (df_test['Real'] - df_test['Prediction']).abs()\n",
    "    return  df_test"
   ]
  },
  {
   "cell_type": "code",
   "execution_count": 55,
   "metadata": {
    "colab": {
     "base_uri": "https://localhost:8080/",
     "height": 424
    },
    "id": "mRDITs2XiYiQ",
    "outputId": "a3a1efa2-943f-4810-f0f6-5afab46dea80"
   },
   "outputs": [
    {
     "data": {
      "text/html": [
       "<div>\n",
       "<style scoped>\n",
       "    .dataframe tbody tr th:only-of-type {\n",
       "        vertical-align: middle;\n",
       "    }\n",
       "\n",
       "    .dataframe tbody tr th {\n",
       "        vertical-align: top;\n",
       "    }\n",
       "\n",
       "    .dataframe thead th {\n",
       "        text-align: right;\n",
       "    }\n",
       "</style>\n",
       "<table border=\"1\" class=\"dataframe\">\n",
       "  <thead>\n",
       "    <tr style=\"text-align: right;\">\n",
       "      <th></th>\n",
       "      <th>Real</th>\n",
       "      <th>Prediction</th>\n",
       "      <th>Difference</th>\n",
       "    </tr>\n",
       "  </thead>\n",
       "  <tbody>\n",
       "    <tr>\n",
       "      <th>0</th>\n",
       "      <td>18.3460</td>\n",
       "      <td>19.238867</td>\n",
       "      <td>0.892867</td>\n",
       "    </tr>\n",
       "    <tr>\n",
       "      <th>1</th>\n",
       "      <td>18.3433</td>\n",
       "      <td>19.419712</td>\n",
       "      <td>1.076412</td>\n",
       "    </tr>\n",
       "    <tr>\n",
       "      <th>2</th>\n",
       "      <td>18.3440</td>\n",
       "      <td>19.528763</td>\n",
       "      <td>1.184763</td>\n",
       "    </tr>\n",
       "    <tr>\n",
       "      <th>3</th>\n",
       "      <td>18.4286</td>\n",
       "      <td>19.649628</td>\n",
       "      <td>1.221028</td>\n",
       "    </tr>\n",
       "    <tr>\n",
       "      <th>4</th>\n",
       "      <td>18.5502</td>\n",
       "      <td>19.617233</td>\n",
       "      <td>1.067033</td>\n",
       "    </tr>\n",
       "    <tr>\n",
       "      <th>...</th>\n",
       "      <td>...</td>\n",
       "      <td>...</td>\n",
       "      <td>...</td>\n",
       "    </tr>\n",
       "    <tr>\n",
       "      <th>47948</th>\n",
       "      <td>18.4170</td>\n",
       "      <td>18.259760</td>\n",
       "      <td>0.157240</td>\n",
       "    </tr>\n",
       "    <tr>\n",
       "      <th>47949</th>\n",
       "      <td>18.3798</td>\n",
       "      <td>18.243935</td>\n",
       "      <td>0.135865</td>\n",
       "    </tr>\n",
       "    <tr>\n",
       "      <th>47950</th>\n",
       "      <td>18.3346</td>\n",
       "      <td>18.177891</td>\n",
       "      <td>0.156709</td>\n",
       "    </tr>\n",
       "    <tr>\n",
       "      <th>47951</th>\n",
       "      <td>18.2666</td>\n",
       "      <td>18.081532</td>\n",
       "      <td>0.185068</td>\n",
       "    </tr>\n",
       "    <tr>\n",
       "      <th>47952</th>\n",
       "      <td>18.1971</td>\n",
       "      <td>18.030680</td>\n",
       "      <td>0.166420</td>\n",
       "    </tr>\n",
       "  </tbody>\n",
       "</table>\n",
       "<p>47953 rows × 3 columns</p>\n",
       "</div>"
      ],
      "text/plain": [
       "          Real  Prediction  Difference\n",
       "0      18.3460   19.238867    0.892867\n",
       "1      18.3433   19.419712    1.076412\n",
       "2      18.3440   19.528763    1.184763\n",
       "3      18.4286   19.649628    1.221028\n",
       "4      18.5502   19.617233    1.067033\n",
       "...        ...         ...         ...\n",
       "47948  18.4170   18.259760    0.157240\n",
       "47949  18.3798   18.243935    0.135865\n",
       "47950  18.3346   18.177891    0.156709\n",
       "47951  18.2666   18.081532    0.185068\n",
       "47952  18.1971   18.030680    0.166420\n",
       "\n",
       "[47953 rows x 3 columns]"
      ]
     },
     "execution_count": 55,
     "metadata": {},
     "output_type": "execute_result"
    }
   ],
   "source": [
    "df_test=diferencia(pred,ytest)\n",
    "df_test"
   ]
  },
  {
   "cell_type": "code",
   "execution_count": 53,
   "metadata": {
    "colab": {
     "base_uri": "https://localhost:8080/"
    },
    "id": "mS-ksWWylzPb",
    "outputId": "059cf26e-e17c-41d8-dc52-be25a122613f"
   },
   "outputs": [
    {
     "data": {
      "text/plain": [
       "9.52276019897461"
      ]
     },
     "execution_count": 53,
     "metadata": {},
     "output_type": "execute_result"
    }
   ],
   "source": [
    "df_test['Difference'].max()"
   ]
  },
  {
   "cell_type": "markdown",
   "metadata": {},
   "source": [
    "### Unión de la data"
   ]
  },
  {
   "cell_type": "code",
   "execution_count": 83,
   "metadata": {},
   "outputs": [
    {
     "data": {
      "text/plain": [
       "(52562, 144, 7)"
      ]
     },
     "execution_count": 83,
     "metadata": {},
     "output_type": "execute_result"
    }
   ],
   "source": [
    "xfulldata = np.concatenate((xvalidation,xtest))\n",
    "xfulldata.shape"
   ]
  },
  {
   "cell_type": "code",
   "execution_count": 84,
   "metadata": {},
   "outputs": [
    {
     "data": {
      "text/plain": [
       "(52562,)"
      ]
     },
     "execution_count": 84,
     "metadata": {},
     "output_type": "execute_result"
    }
   ],
   "source": [
    "yfulldata = np.concatenate((yvalidation,ytest))\n",
    "yfulldata.shape"
   ]
  },
  {
   "cell_type": "code",
   "execution_count": 56,
   "metadata": {},
   "outputs": [
    {
     "name": "stdout",
     "output_type": "stream",
     "text": [
      "2971/2971 [==============================] - 1466s 493ms/step\n"
     ]
    }
   ],
   "source": [
    "yfullpred = model.predict(xfulldata)"
   ]
  },
  {
   "cell_type": "code",
   "execution_count": 82,
   "metadata": {},
   "outputs": [
    {
     "data": {
      "text/html": [
       "<div>\n",
       "<style scoped>\n",
       "    .dataframe tbody tr th:only-of-type {\n",
       "        vertical-align: middle;\n",
       "    }\n",
       "\n",
       "    .dataframe tbody tr th {\n",
       "        vertical-align: top;\n",
       "    }\n",
       "\n",
       "    .dataframe thead th {\n",
       "        text-align: right;\n",
       "    }\n",
       "</style>\n",
       "<table border=\"1\" class=\"dataframe\">\n",
       "  <thead>\n",
       "    <tr style=\"text-align: right;\">\n",
       "      <th></th>\n",
       "      <th>Real</th>\n",
       "      <th>Prediction</th>\n",
       "      <th>Difference</th>\n",
       "    </tr>\n",
       "  </thead>\n",
       "  <tbody>\n",
       "    <tr>\n",
       "      <th>980</th>\n",
       "      <td>20.225998</td>\n",
       "      <td>-9.897261</td>\n",
       "      <td>30.123259</td>\n",
       "    </tr>\n",
       "    <tr>\n",
       "      <th>981</th>\n",
       "      <td>20.211144</td>\n",
       "      <td>-19.225599</td>\n",
       "      <td>39.436744</td>\n",
       "    </tr>\n",
       "    <tr>\n",
       "      <th>982</th>\n",
       "      <td>20.196250</td>\n",
       "      <td>-24.090815</td>\n",
       "      <td>44.287064</td>\n",
       "    </tr>\n",
       "    <tr>\n",
       "      <th>983</th>\n",
       "      <td>20.181316</td>\n",
       "      <td>-34.715302</td>\n",
       "      <td>54.896618</td>\n",
       "    </tr>\n",
       "    <tr>\n",
       "      <th>984</th>\n",
       "      <td>20.166345</td>\n",
       "      <td>-34.577705</td>\n",
       "      <td>54.744050</td>\n",
       "    </tr>\n",
       "    <tr>\n",
       "      <th>985</th>\n",
       "      <td>20.151337</td>\n",
       "      <td>-34.443024</td>\n",
       "      <td>54.594361</td>\n",
       "    </tr>\n",
       "    <tr>\n",
       "      <th>986</th>\n",
       "      <td>20.136295</td>\n",
       "      <td>-34.279373</td>\n",
       "      <td>54.415668</td>\n",
       "    </tr>\n",
       "    <tr>\n",
       "      <th>987</th>\n",
       "      <td>20.121219</td>\n",
       "      <td>-34.093376</td>\n",
       "      <td>54.214595</td>\n",
       "    </tr>\n",
       "    <tr>\n",
       "      <th>988</th>\n",
       "      <td>20.106112</td>\n",
       "      <td>-33.912697</td>\n",
       "      <td>54.018809</td>\n",
       "    </tr>\n",
       "    <tr>\n",
       "      <th>989</th>\n",
       "      <td>20.090974</td>\n",
       "      <td>-33.736061</td>\n",
       "      <td>53.827035</td>\n",
       "    </tr>\n",
       "  </tbody>\n",
       "</table>\n",
       "</div>"
      ],
      "text/plain": [
       "          Real  Prediction  Difference\n",
       "980  20.225998   -9.897261   30.123259\n",
       "981  20.211144  -19.225599   39.436744\n",
       "982  20.196250  -24.090815   44.287064\n",
       "983  20.181316  -34.715302   54.896618\n",
       "984  20.166345  -34.577705   54.744050\n",
       "985  20.151337  -34.443024   54.594361\n",
       "986  20.136295  -34.279373   54.415668\n",
       "987  20.121219  -34.093376   54.214595\n",
       "988  20.106112  -33.912697   54.018809\n",
       "989  20.090974  -33.736061   53.827035"
      ]
     },
     "execution_count": 82,
     "metadata": {},
     "output_type": "execute_result"
    }
   ],
   "source": [
    "df_full=diferencia(yfullpred,yfulldata)\n",
    "df_full.iloc[980:990,:]"
   ]
  },
  {
   "cell_type": "code",
   "execution_count": 81,
   "metadata": {},
   "outputs": [
    {
     "data": {
      "text/plain": [
       "983"
      ]
     },
     "execution_count": 81,
     "metadata": {},
     "output_type": "execute_result"
    }
   ],
   "source": [
    "df_full['Difference'].idxmax()"
   ]
  },
  {
   "cell_type": "code",
   "execution_count": 59,
   "metadata": {
    "colab": {
     "base_uri": "https://localhost:8080/",
     "height": 323
    },
    "id": "s4o0-zLSY6Ia",
    "outputId": "24654d08-7d71-4e81-8e15-47d012b5a4a2"
   },
   "outputs": [
    {
     "data": {
      "text/plain": [
       "<AxesSubplot:ylabel='Real'>"
      ]
     },
     "execution_count": 59,
     "metadata": {},
     "output_type": "execute_result"
    },
    {
     "data": {
      "image/png": "[encoded data removed]",
      "text/plain": [
       "<Figure size 1440x360 with 1 Axes>"
      ]
     },
     "metadata": {},
     "output_type": "display_data"
    }
   ],
   "source": [
    "sns.set_theme(style = \"darkgrid\")\n",
    "fig, axs = plt.subplots(figsize =(20, 5))\n",
    "sns.lineplot(data =df_full, x=df_full.index, y=\"Real\", ax=axs, color=\"b\")\n",
    "sns.lineplot(data =df_full, x=df_full.index, y=\"Prediction\", ax=axs, color=\"r\")"
   ]
  },
  {
   "cell_type": "code",
   "execution_count": 60,
   "metadata": {
    "colab": {
     "base_uri": "https://localhost:8080/",
     "height": 323
    },
    "id": "qrShjz9uY6Ib",
    "outputId": "12bb8f63-9089-4858-c30f-0f42f68393b1"
   },
   "outputs": [
    {
     "data": {
      "text/plain": [
       "<AxesSubplot:ylabel='Difference'>"
      ]
     },
     "execution_count": 60,
     "metadata": {},
     "output_type": "execute_result"
    },
    {
     "data": {
      "image/png": "[encoded data removed]",
      "text/plain": [
       "<Figure size 1440x360 with 1 Axes>"
      ]
     },
     "metadata": {},
     "output_type": "display_data"
    }
   ],
   "source": [
    "sns.set_theme(style = \"darkgrid\")\n",
    "fig, axs = plt.subplots(figsize =(20, 5))\n",
    "sns.lineplot(data =df_full['Difference'], ax=axs, color='r')"
   ]
  },
  {
   "cell_type": "markdown",
   "metadata": {
    "id": "kE6PhNWNY6Ib"
   },
   "source": [
    "Moving Averange"
   ]
  },
  {
   "cell_type": "code",
   "execution_count": 61,
   "metadata": {
    "id": "owuZZxy3Y6Id"
   },
   "outputs": [],
   "source": [
    "def moving_average(df, value):\n",
    "    list_ma = df.rolling(value,min_periods=1).mean()\n",
    "    return list_ma"
   ]
  },
  {
   "cell_type": "code",
   "execution_count": 62,
   "metadata": {
    "id": "CATHpA9XY6Id"
   },
   "outputs": [],
   "source": [
    "x2metr = np.concatenate((xtrain,xvalidation))\n",
    "#x2metr = xtest"
   ]
  },
  {
   "cell_type": "code",
   "execution_count": 35,
   "metadata": {
    "id": "H8wqQwfzY6Ie"
   },
   "outputs": [],
   "source": [
    "def split_sequencesfecha(sequences, n_steps):\n",
    "    X = list()\n",
    "    for i in range(len(sequences)):\n",
    "        # find the end of this pattern\n",
    "        end_ix = i + n_steps\n",
    "        # check if we are beyond the dataset\n",
    "        if end_ix > len(sequences):\n",
    "            break\n",
    "        # gather input and output parts of the pattern\n",
    "        seq_x= sequences[end_ix-1]\n",
    "        X.append(seq_x)\n",
    "    return array(X)"
   ]
  },
  {
   "cell_type": "code",
   "execution_count": 63,
   "metadata": {
    "id": "dOMmxF6TY6Ie"
   },
   "outputs": [],
   "source": [
    "fechatrain=split_sequencesfecha(training['date_time'], 144)\n",
    "fechaval=split_sequencesfecha(validation['date_time'], 144)\n",
    "fechatest=split_sequencesfecha(test['date_time'], 144)\n",
    "#fechafull = fechatest\n",
    "fechafull = np.concatenate((fechatrain,fechaval,fechatest))"
   ]
  },
  {
   "cell_type": "code",
   "execution_count": 64,
   "metadata": {
    "id": "GFFvusunY6If"
   },
   "outputs": [],
   "source": [
    "tiempo = pd.DataFrame({'date_time': fechafull})"
   ]
  },
  {
   "cell_type": "code",
   "execution_count": 65,
   "metadata": {
    "id": "kJNtJPFyY6If"
   },
   "outputs": [],
   "source": [
    "def ma(diferencia,numdatos):\n",
    "    aux = pd.DataFrame(diferencia)\n",
    "    #aux['Anomaly'] = pd.DataFrame(diferencia)\n",
    "    auxma=moving_average(aux, numdatos)\n",
    "    diferencia2=auxma[0:len(x2metr)-1]\n",
    "    meandiff=np.mean(diferencia2)\n",
    "    stdiff=np.std(diferencia2)\n",
    "    tiempo[\"diferencia\"]=auxma\n",
    "    tiempo[\"target\"]=0\n",
    "    thr1 = meandiff + 6*stdiff\n",
    "    thr2 = meandiff + 5*stdiff\n",
    "    thr3 = meandiff + 3*stdiff\n",
    "    thr4 = meandiff + 2*stdiff\n",
    "    \n",
    "    return auxma,meandiff,stdiff,thr1,thr2,thr3,thr4"
   ]
  },
  {
   "cell_type": "code",
   "execution_count": 66,
   "metadata": {
    "id": "gLYlyo8jY6If"
   },
   "outputs": [],
   "source": [
    "auxma1,meandiff1,stdiff1,threshold1,threshold2,threshold3,threshold4=ma(df_full['Difference'],144)"
   ]
  },
  {
   "cell_type": "code",
   "execution_count": 67,
   "metadata": {
    "id": "zAx2LBwEY6Ig"
   },
   "outputs": [],
   "source": [
    "def monthAgo(date):\n",
    "    date = pd.to_datetime(date)\n",
    "    month = date-timedelta(days=30)\n",
    "    return month\n",
    "\n",
    "def tagClass(dataframe,numClasses,startFailure):\n",
    "    c=0.1\n",
    "    dataframe=dataframe.copy()\n",
    "    dataframe['date_time']=pd.to_datetime(dataframe['date_time'])\n",
    "    for i in range(numClasses):\n",
    "        if i==0:\n",
    "            startDate=startFailure\n",
    "            finishDate=monthAgo(startFailure)\n",
    "            \n",
    "            dataframe.loc[(dataframe['date_time']>=finishDate)&(dataframe['date_time']<startDate),'target']=0.1\n",
    "        else:\n",
    "            startDate=finishDate\n",
    "            finishDate=monthAgo(finishDate)\n",
    "            \n",
    "            dataframe.loc[(dataframe['date_time']>=finishDate)&(dataframe['date_time']<startDate),'target']=c+0.1\n",
    "        c+=0.1\n",
    "    \n",
    "    return dataframe"
   ]
  },
  {
   "cell_type": "code",
   "execution_count": 68,
   "metadata": {
    "id": "a5uNvtZdY6Ig"
   },
   "outputs": [],
   "source": [
    "datatest1=tagClass(tiempo,6,pd.to_datetime(\"21/05/2018\").replace(minute=0, hour=0, second=0))\n",
    "datatest1[\"meandiff\"]=float(meandiff1)\n",
    "datatest1[\"stdiff\"]=float(stdiff1)"
   ]
  },
  {
   "cell_type": "code",
   "execution_count": 69,
   "metadata": {
    "id": "DtjJbijCY6Ig"
   },
   "outputs": [],
   "source": [
    "def threshold():\n",
    "    datatest1[\"threshold1\"]=float(threshold1)\n",
    "    datatest1[\"threshold2\"]=float(threshold2)\n",
    "    datatest1[\"threshold3\"]=float(threshold3)\n",
    "    datatest1[\"threshold4\"]=float(threshold4)\n",
    "    return "
   ]
  },
  {
   "cell_type": "code",
   "execution_count": 70,
   "metadata": {
    "colab": {
     "base_uri": "https://localhost:8080/"
    },
    "id": "UWbUO10iY6Ig",
    "outputId": "b4c4ffdb-e779-4c63-c8de-0d5e7ddded3d"
   },
   "outputs": [
    {
     "data": {
      "text/plain": [
       "(95043,)"
      ]
     },
     "execution_count": 70,
     "metadata": {},
     "output_type": "execute_result"
    }
   ],
   "source": [
    "datatest1[\"meandiff\"].shape"
   ]
  },
  {
   "cell_type": "code",
   "execution_count": 71,
   "metadata": {
    "colab": {
     "base_uri": "https://localhost:8080/"
    },
    "id": "ZWSmUMKWY6Ih",
    "outputId": "b3c8e8d0-4306-4e77-d341-b8de80790e8e"
   },
   "outputs": [
    {
     "data": {
      "text/plain": [
       "(95043, 1)"
      ]
     },
     "execution_count": 71,
     "metadata": {},
     "output_type": "execute_result"
    }
   ],
   "source": [
    "auxma1.shape"
   ]
  },
  {
   "cell_type": "code",
   "execution_count": 72,
   "metadata": {
    "colab": {
     "base_uri": "https://localhost:8080/",
     "height": 431
    },
    "id": "ALbbCFWRY6Ih",
    "outputId": "f45a8ca1-e321-4efe-ab57-81d8fc88afcc"
   },
   "outputs": [
    {
     "data": {
      "text/plain": [
       "<matplotlib.legend.Legend at 0x1bdbc0184a8>"
      ]
     },
     "execution_count": 72,
     "metadata": {},
     "output_type": "execute_result"
    },
    {
     "data": {
      "image/png": "[encoded data removed]",
      "text/plain": [
       "<Figure size 1440x504 with 1 Axes>"
      ]
     },
     "metadata": {},
     "output_type": "display_data"
    }
   ],
   "source": [
    "plt.figure(figsize=(20, 7))\n",
    "plt.plot(auxma1, label='diferencia')\n",
    "plt.plot(datatest1[\"meandiff\"], label='meandiff1')\n",
    "plt.plot(datatest1[\"stdiff\"], label='stdiff')\n",
    "plt.legend(frameon=False)"
   ]
  },
  {
   "cell_type": "code",
   "execution_count": 46,
   "metadata": {
    "colab": {
     "base_uri": "https://localhost:8080/",
     "height": 34
    },
    "id": "JG-RgtdGY6Ij",
    "outputId": "281e48a7-e309-4c0f-b7b2-389e0fefb03a"
   },
   "outputs": [
    {
     "data": {
      "text/plain": [
       "<Figure size 432x288 with 0 Axes>"
      ]
     },
     "metadata": {},
     "output_type": "display_data"
    }
   ],
   "source": [
    "plt.savefig(\"Test2_mean.png\")"
   ]
  },
  {
   "cell_type": "code",
   "execution_count": 73,
   "metadata": {
    "colab": {
     "base_uri": "https://localhost:8080/",
     "height": 431
    },
    "id": "koK_oUklY6Ij",
    "outputId": "4b4ecd33-04cb-48cd-ec21-27da9275d338"
   },
   "outputs": [
    {
     "data": {
      "text/plain": [
       "[<matplotlib.lines.Line2D at 0x1bdbbb63518>]"
      ]
     },
     "execution_count": 73,
     "metadata": {},
     "output_type": "execute_result"
    },
    {
     "data": {
      "image/png": "[encoded data removed]",
      "text/plain": [
       "<Figure size 1440x504 with 1 Axes>"
      ]
     },
     "metadata": {},
     "output_type": "display_data"
    }
   ],
   "source": [
    "threshold()\n",
    "plt.figure(figsize=(20, 7))\n",
    "plt.plot(auxma1, label='diferencia')\n",
    "plt.plot(datatest1[\"threshold1\"], label='diferencia')\n",
    "plt.plot(datatest1[\"threshold3\"], label='diferencia')"
   ]
  },
  {
   "cell_type": "code",
   "execution_count": null,
   "metadata": {
    "id": "QBU9XZa_Y6Ik"
   },
   "outputs": [],
   "source": []
  }
 ],
 "metadata": {
  "accelerator": "GPU",
  "colab": {
   "collapsed_sections": [],
   "provenance": []
  },
  "gpuClass": "standard",
  "kernelspec": {
   "display_name": "Python 3",
   "language": "python",
   "name": "python3"
  },
  "language_info": {
   "codemirror_mode": {
    "name": "ipython",
    "version": 3
   },
   "file_extension": ".py",
   "mimetype": "text/x-python",
   "name": "python",
   "nbconvert_exporter": "python",
   "pygments_lexer": "ipython3",
   "version": "3.7.0"
  }
 },
 "nbformat": 4,
 "nbformat_minor": 1
}
