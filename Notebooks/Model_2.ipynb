{
 "cells": [
  {
   "cell_type": "code",
   "execution_count": 1,
   "metadata": {
    "collapsed": true,
    "id": "Hdz17vEDYHbn"
   },
   "outputs": [],
   "source": [
    "import seaborn as sns\n",
    "import numpy as np\n",
    "import pandas as pd\n",
    "import matplotlib.pyplot as plt\n",
    "%matplotlib inline\n",
    "from sklearn.preprocessing import MinMaxScaler \n",
    "import tensorflow as tf\n",
    "\n",
    "np.random.seed(0)"
   ]
  },
  {
   "cell_type": "markdown",
   "metadata": {},
   "source": [
    "## Data cleaning"
   ]
  },
  {
   "cell_type": "code",
   "execution_count": 2,
   "metadata": {
    "id": "mUv4q73j8OOF"
   },
   "outputs": [],
   "source": [
    "filename = '../Data/SCADA_data_WT2346.csv'\n",
    "datos=pd.read_csv(filename)"
   ]
  },
  {
   "cell_type": "code",
   "execution_count": 3,
   "metadata": {
    "id": "WPYVaP1PiUWs"
   },
   "outputs": [],
   "source": [
    "import warnings\n",
    "warnings.filterwarnings('ignore')"
   ]
  },
  {
   "cell_type": "code",
   "execution_count": 7,
   "metadata": {
    "id": "ua2iURipBcrS"
   },
   "outputs": [],
   "source": [
    "df = pd.DataFrame({'date_time': datos['date_time'] ,'TempEjeLento_1': datos['TempEjeLento_1'], 'TempAmbMean': datos['TempAmbMean'], 'TempRodamMultipMean': datos['TempRodamMultipMean'], 'TempCojLAMean': datos['TempCojLAMean'],'TempCojLOAMean': datos['TempCojLOAMean'], 'TempGenMean': datos['TempGenMean'], 'PotMean': datos['PotMean'], 'VelRotorMean': datos['VelRotorMean']})\n",
    "del datos"
   ]
  },
  {
   "cell_type": "code",
   "execution_count": 5,
   "metadata": {},
   "outputs": [
    {
     "data": {
      "text/plain": [
       "Index(['date_time', 'TempEjeLento_1', 'TempAmbMean', 'TempRodamMultipMean',\n",
       "       'TempCojLAMean', 'TempCojLOAMean', 'TempGenMean', 'PotMean',\n",
       "       'VelRotorMean'],\n",
       "      dtype='object')"
      ]
     },
     "execution_count": 5,
     "metadata": {},
     "output_type": "execute_result"
    }
   ],
   "source": [
    "df.columns"
   ]
  },
  {
   "cell_type": "code",
   "execution_count": null,
   "metadata": {
    "id": "8YpdQmfDezeA"
   },
   "outputs": [],
   "source": [
    "#PotMean\n",
    "df['PotMean'][df['PotMean']< 0] = None\n",
    "df['PotMean'][df['PotMean']> 2000] = None\n",
    "#TempAmbMean\n",
    "df['TempAmbMean'][df['TempAmbMean']< -5] = None\n",
    "df['TempAmbMean'][df['TempAmbMean']> 40] = None\n",
    "#TempCojLAMean\n",
    "df['TempCojLAMean'][df['TempCojLAMean']< 0] = None\n",
    "df['TempCojLAMean'][df['TempCojLAMean']> 120] = None\n",
    "#TempCojLOAMean\n",
    "df['TempCojLOAMean'][df['TempCojLOAMean']< 0] = None\n",
    "df['TempCojLOAMean'][df['TempCojLOAMean']> 120] = None\n",
    "#TempEjeLento_1\n",
    "df['TempEjeLento_1'][df['TempEjeLento_1']< 0] = None\n",
    "df['TempEjeLento_1'][df['TempEjeLento_1']> 120] = None\n",
    "#TempGenMean\n",
    "df['TempGenMean'][df['TempGenMean']< 0] = None\n",
    "df['TempGenMean'][df['TempGenMean']> 175] = None\n",
    "#TempRodamMultipMean\n",
    "df['TempRodamMultipMean'][df['TempRodamMultipMean']< 0] = None\n",
    "df['TempRodamMultipMean'][df['TempRodamMultipMean']> 120] = None\n",
    "#VelRotorMean\n",
    "df['VelRotorMean'][df['VelRotorMean']< 0] = None\n",
    "df['VelRotorMean'][df['VelRotorMean']> 50] = None"
   ]
  },
  {
   "cell_type": "code",
   "execution_count": null,
   "metadata": {
    "id": "79lmQmI5h46R"
   },
   "outputs": [],
   "source": [
    "df['TempAmbMean']=df['TempAmbMean'].interpolate(method='pchip', order=3, limit_area='inside')\n",
    "df['TempAmbMean']=df['TempAmbMean'].fillna(method='backfill')\n",
    "df['TempAmbMean']=df['TempAmbMean'].fillna(method='ffill')\n",
    "\n",
    "df['TempEjeLento_1']=df['TempEjeLento_1'].interpolate(method='pchip', order=3)\n",
    "df['TempEjeLento_1']=df['TempEjeLento_1'].fillna(method='backfill')\n",
    "\n",
    "df['TempRodamMultipMean']=df['TempRodamMultipMean'].interpolate(method='pchip', order=3)\n",
    "df['TempRodamMultipMean']=df['TempRodamMultipMean'].fillna(method='backfill')\n",
    "\n",
    "df['TempCojLAMean']=df['TempCojLAMean'].interpolate(method='pchip', order=3)\n",
    "df['TempCojLAMean']=df['TempCojLAMean'].fillna(method='backfill')\n",
    "\n",
    "df['TempCojLOAMean']=df['TempCojLOAMean'].interpolate(method='pchip', order=3)\n",
    "df['TempCojLOAMean']=df['TempCojLOAMean'].fillna(method='backfill')\n",
    "\n",
    "df['TempGenMean']=df['TempGenMean'].interpolate(method='pchip', order=3)\n",
    "df['TempGenMean']=df['TempGenMean'].fillna(method='backfill')\n",
    "\n",
    "df['PotMean']=df['PotMean'].interpolate(method='pchip', order=3)\n",
    "df['PotMean']=df['PotMean'].fillna(method='backfill')\n",
    "\n",
    "df['VelRotorMean']=df['VelRotorMean'].interpolate(method='pchip', order=3)\n",
    "df['VelRotorMean']=df['VelRotorMean'].fillna(method='backfill')\n",
    "\n",
    "df['TempEjeLento_1']=df['TempEjeLento_1'].fillna(method='ffill')\n",
    "df['TempRodamMultipMean']=df['TempRodamMultipMean'].fillna(method='ffill')\n",
    "df['TempCojLAMean']=df['TempCojLAMean'].fillna(method='ffill')\n",
    "df['TempCojLOAMean']=df['TempCojLOAMean'].fillna(method='ffill')\n",
    "df['TempGenMean']=df['TempGenMean'].fillna(method='ffill')\n",
    "df['PotMean']=df['PotMean'].fillna(method='ffill')\n",
    "df['VelRotorMean']=df['VelRotorMean'].fillna(method='ffill')"
   ]
  },
  {
   "cell_type": "code",
   "execution_count": null,
   "metadata": {
    "id": "71o0UCAphyxs"
   },
   "outputs": [],
   "source": [
    "df.reset_index(drop=True, inplace=True)"
   ]
  },
  {
   "cell_type": "code",
   "execution_count": null,
   "metadata": {
    "id": "-Oi_NIh_jA0p"
   },
   "outputs": [],
   "source": [
    "datos_listos=df.copy()"
   ]
  },
  {
   "cell_type": "code",
   "execution_count": null,
   "metadata": {
    "colab": {
     "base_uri": "https://localhost:8080/",
     "height": 424
    },
    "id": "NU_LOk5pjk-7",
    "outputId": "7e48b9d2-fed1-42af-aa6e-220fad62df22"
   },
   "outputs": [],
   "source": [
    "datos_t=pd.DataFrame({ 'TempEjeLento_1':df['TempEjeLento_1'],'date_time': df['date_time'] ,})\n",
    "datos_t.drop([0], inplace=True)\n",
    "datos_t.reset_index(drop=True, inplace=True)\n",
    "datos_t"
   ]
  },
  {
   "cell_type": "code",
   "execution_count": null,
   "metadata": {
    "colab": {
     "base_uri": "https://localhost:8080/",
     "height": 424
    },
    "id": "-I6bFF2Djqv9",
    "outputId": "9581496a-8c88-470f-b9be-119357d54975"
   },
   "outputs": [],
   "source": [
    "datos_tmenos1=pd.DataFrame({'TempEjeLento_1-1': df['TempEjeLento_1'],'TempAmbMean-1': df['TempAmbMean'], 'TempRodamMultipMean-1': df['TempRodamMultipMean'],'TempCojLOAMean-1': df['TempCojLOAMean'], 'TempGenMean-1': df['TempGenMean'], 'PotMean-1': df['PotMean'], 'VelRotorMean-1': df['VelRotorMean']})\n",
    "datos_tmenos1.drop([len(df['VelRotorMean'])-1], inplace=True)\n",
    "datos_tmenos1.reset_index(drop=True, inplace=True)\n",
    "datos_tmenos1"
   ]
  },
  {
   "cell_type": "code",
   "execution_count": null,
   "metadata": {
    "colab": {
     "base_uri": "https://localhost:8080/",
     "height": 424
    },
    "id": "5hO3PgxOjsqO",
    "outputId": "896f0fe3-0376-4d07-e16a-a1c8e05c0e97"
   },
   "outputs": [],
   "source": [
    "datos_listos=pd.DataFrame({'date_time': datos_t['date_time'], 'TempEjeLento_1-1': datos_tmenos1['TempEjeLento_1-1'],'TempAmbMean-1': datos_tmenos1['TempAmbMean-1'],'TempRodamMultipMean-1': datos_tmenos1['TempRodamMultipMean-1'],'TempCojLOAMean-1': datos_tmenos1['TempCojLOAMean-1'],'TempGenMean-1': datos_tmenos1['TempGenMean-1'], 'PotMean-1': datos_tmenos1['PotMean-1'], 'VelRotorMean-1': datos_tmenos1['VelRotorMean-1'],'TempEjeLento_1': datos_t['TempEjeLento_1']})\n",
    "datos_listos"
   ]
  },
  {
   "cell_type": "code",
   "execution_count": null,
   "metadata": {},
   "outputs": [],
   "source": [
    "def normalizado(df,a1,b1,a2,b2,a6,b6,a10,b10,a12,b12,a14,b14,a16,b16,a17,b17):\n",
    "    \n",
    "\n",
    "        datos_norm=pd.DataFrame({\"date_time\": df['date_time']})\n",
    "        datos_norm[\"TempEjeLento_1-1\"] = (df['TempEjeLento_1-1']-b1)/(a1-b1)\n",
    "        datos_norm[\"TempAmbMean-1\"]= (df['TempAmbMean-1']-b2)/(a2-b2)\n",
    "        datos_norm[\"TempRodamMultipMean-1\"] = (df['TempRodamMultipMean-1']-b6)/(a6-b6)\n",
    "        #datos_norm[\"TempCojLAMean-1\"] = (df['TempCojLAMean-1']-b8)/(a8-b8) \n",
    "        datos_norm[\"TempCojLOAMean-1\"] = (df['TempCojLOAMean-1']-b10)/(a10-b10) \n",
    "        datos_norm[\"TempGenMean-1\"] = (df['TempGenMean-1']-b12)/(a12-b12)\n",
    "        datos_norm[\"PotMean-1\"] = (df['PotMean-1']-b14)/(a14-b14) \n",
    "        datos_norm[\"VelRotorMean-1\"] = (df['VelRotorMean-1']-b16)/(a16-b16)\n",
    "        datos_norm[\"TempEjeLento_1\"] = (df['TempEjeLento_1']-b17)/(a17-b17)\n",
    "        #datos_norm['date_time'] = df['date_time']\n",
    "\n",
    "        return datos_norm"
   ]
  },
  {
   "cell_type": "code",
   "execution_count": null,
   "metadata": {
    "id": "u6zT0Dsnj1bQ"
   },
   "outputs": [],
   "source": [
    "from datetime import datetime,timedelta\n",
    "datos_listos['date_time']=pd.to_datetime(datos_listos['date_time'])"
   ]
  },
  {
   "cell_type": "code",
   "execution_count": null,
   "metadata": {
    "id": "Iblom-_Fj5GW"
   },
   "outputs": [],
   "source": [
    "data_tv=datos_listos.copy()\n",
    "mask = ((data_tv['date_time'] >= '2017-02-06 00:00:00') & (data_tv['date_time'] < '2018-01-01 00:00:00') ) \n",
    "train_tv=data_tv.loc[mask]\n",
    "train_tv.reset_index(drop=True, inplace=True)"
   ]
  },
  {
   "cell_type": "code",
   "execution_count": null,
   "metadata": {
    "colab": {
     "base_uri": "https://localhost:8080/"
    },
    "id": "jX16JAWVkAea",
    "outputId": "8862f9be-8248-47a7-d756-eec02cb91dab"
   },
   "outputs": [],
   "source": [
    "longitud=len(train_tv)\n",
    "#longitud=longitud*70/100\n",
    "longitud=(longitud)/144\n",
    "longitud=longitud*90/100\n",
    "longitud=round(longitud)\n",
    "longitud=longitud*144\n",
    "longitud"
   ]
  },
  {
   "cell_type": "code",
   "execution_count": null,
   "metadata": {
    "colab": {
     "base_uri": "https://localhost:8080/",
     "height": 424
    },
    "id": "0XYNlb11kC0c",
    "outputId": "b04f6b24-5161-4161-f8de-70a281b9cc42"
   },
   "outputs": [],
   "source": [
    "training=train_tv.loc[0:round(longitud)-1]\n",
    "training.reset_index(drop=True, inplace=True)\n",
    "training"
   ]
  },
  {
   "cell_type": "code",
   "execution_count": null,
   "metadata": {},
   "outputs": [],
   "source": [
    "from numpy import array\n",
    "df=training\n",
    "\n",
    "a1=df['TempEjeLento_1-1'].values.max()\n",
    "b1=df['TempEjeLento_1-1'].values.min()\n",
    "a2=df['TempAmbMean-1'].values.max()\n",
    "b2=df['TempAmbMean-1'].values.min()\n",
    "a6=df['TempRodamMultipMean-1'].values.max()\n",
    "b6=df['TempRodamMultipMean-1'].values.min()\n",
    "#a8=df['TempCojLAMean-1'].values.max()\n",
    "#b8=df['TempCojLAMean-1'].values.min()\n",
    "a10=df['TempCojLOAMean-1'].values.max()\n",
    "b10=df['TempCojLOAMean-1'].values.min()\n",
    "a12=df['TempGenMean-1'].values.max()\n",
    "b12=df['TempGenMean-1'].values.min()\n",
    "a14=df['PotMean-1'].values.max()\n",
    "b14=df['PotMean-1'].values.min()\n",
    "a16=df['VelRotorMean-1'].values.max()\n",
    "b16=df['VelRotorMean-1'].values.min()\n",
    "a17=df['TempEjeLento_1'].values.max()\n",
    "b17=df['TempEjeLento_1'].values.min()"
   ]
  },
  {
   "cell_type": "code",
   "execution_count": null,
   "metadata": {},
   "outputs": [],
   "source": [
    "training=normalizado(training,a1,b1,a2,b2,a6,b6,a10,b10,a12,b12,a14,b14,a16,b16,a17,b17)\n",
    "training"
   ]
  },
  {
   "cell_type": "code",
   "execution_count": null,
   "metadata": {
    "colab": {
     "base_uri": "https://localhost:8080/",
     "height": 424
    },
    "id": "ihxuJUoXkKI4",
    "outputId": "3e34e9d2-ae67-4d92-edd4-44a63788d5e1"
   },
   "outputs": [],
   "source": [
    "validation=train_tv.loc[round(longitud):len(train_tv)]\n",
    "validation.reset_index(drop=True, inplace=True)\n",
    "validation=normalizado(validation,a1,b1,a2,b2,a6,b6,a10,b10,a12,b12,a14,b14,a16,b16,a17,b17)\n",
    "validation"
   ]
  },
  {
   "cell_type": "code",
   "execution_count": null,
   "metadata": {
    "colab": {
     "base_uri": "https://localhost:8080/",
     "height": 424
    },
    "id": "DwmHih9dkO1M",
    "outputId": "b043fa30-fddb-4b7c-95bd-a27b36aa1717"
   },
   "outputs": [],
   "source": [
    "test=datos_listos.copy()\n",
    "mask = ((test['date_time'] >= '2018-01-01 00:00:00') & (test['date_time'] < '2018-12-01 00:00:00')) \n",
    "test=test.loc[mask]\n",
    "test.reset_index(drop=True, inplace=True)\n",
    "test=normalizado(test,a1,b1,a2,b2,a6,b6,a10,b10,a12,b12,a14,b14,a16,b16,a17,b17)\n",
    "test"
   ]
  },
  {
   "cell_type": "code",
   "execution_count": null,
   "metadata": {
    "id": "InQybtgYkSVd"
   },
   "outputs": [],
   "source": [
    "from numpy import array\n",
    "from numpy import hstack\n",
    "\n",
    "def datosstack(data):\n",
    "    \n",
    "        X1 = array(data['TempAmbMean-1'])\n",
    "        X2 = array(data['TempRodamMultipMean-1'])\n",
    "        #X3 = array(data['TempCojLAMean-1'])\n",
    "        X3 = array(data['TempCojLOAMean-1'])\n",
    "        X4 = array(data['TempGenMean-1'])\n",
    "        X5 = array(data['PotMean-1'])\n",
    "        X6 = array(data['VelRotorMean-1'])\n",
    "        X7 = array(data['TempEjeLento_1-1'])\n",
    "        X8 = array(data['TempEjeLento_1'])\n",
    "\n",
    "        X1 = X1.reshape((len(X1), 1))\n",
    "        X2 = X2.reshape((len(X2), 1))\n",
    "        X3 = X3.reshape((len(X3), 1))\n",
    "        X4 = X4.reshape((len(X4), 1))\n",
    "        X5 = X5.reshape((len(X5), 1))\n",
    "        X6 = X6.reshape((len(X6), 1))\n",
    "        X7 = X7.reshape((len(X7), 1))\n",
    "        X8 = X8.reshape((len(X8), 1))\n",
    "        #X9 = X8.reshape((len(X9), 1))\n",
    "        \n",
    "        dataset = hstack((X1, X2, X3, X4, X5, X6, X7, X8))            \n",
    "\n",
    "        return dataset "
   ]
  },
  {
   "cell_type": "code",
   "execution_count": null,
   "metadata": {
    "colab": {
     "base_uri": "https://localhost:8080/"
    },
    "id": "dkrLSadQls-b",
    "outputId": "dc3ef51e-7e32-4d7f-950b-abee3fcf8764"
   },
   "outputs": [],
   "source": [
    "dataset_train=datosstack(training)\n",
    "dataset_validation=datosstack(validation)\n",
    "dataset_test=datosstack(test)\n",
    "\n",
    "dataset_train.shape"
   ]
  },
  {
   "cell_type": "code",
   "execution_count": null,
   "metadata": {
    "id": "V1ziG-JxlYSt"
   },
   "outputs": [],
   "source": [
    "def split_sequences(sequences, n_steps):\n",
    "\tX, y = list(), list()\n",
    "\tfor i in range(len(sequences)):\n",
    "\t\t# find the end of this pattern\n",
    "\t\t#end_ix = n_steps*i + n_steps\n",
    "\t\tend_ix = i + n_steps\n",
    "\t\t#start_ix = end_ix - n_steps\n",
    "\t\t# check if we are beyond the dataset\n",
    "\t\tif end_ix > len(sequences):\n",
    "\t\t\tbreak\n",
    "\t\t# gather input and output parts of the pattern\n",
    "\t\tseq_x, seq_y = sequences[i:end_ix, :-1], sequences[end_ix-1, -1]\n",
    "\t\tX.append(seq_x)\n",
    "\t\ty.append(seq_y)\n",
    "\treturn array(X), array(y)"
   ]
  },
  {
   "cell_type": "markdown",
   "metadata": {
    "id": "3G0IwsAtnJcT"
   },
   "source": [
    "Datos de Entrenamiento"
   ]
  },
  {
   "cell_type": "code",
   "execution_count": null,
   "metadata": {
    "colab": {
     "base_uri": "https://localhost:8080/"
    },
    "id": "4jBBNzUxmnZy",
    "outputId": "fcc22795-dcba-4778-cc89-4eca3c366022"
   },
   "outputs": [],
   "source": [
    "n_steps = 144\n",
    "xtrain, ytrain = split_sequences(dataset_train, n_steps)\n",
    "print(xtrain.shape, ytrain.shape)"
   ]
  },
  {
   "cell_type": "markdown",
   "metadata": {
    "id": "ofRRs_awnFoP"
   },
   "source": [
    "Datos de Validación"
   ]
  },
  {
   "cell_type": "code",
   "execution_count": null,
   "metadata": {
    "colab": {
     "base_uri": "https://localhost:8080/"
    },
    "id": "NlT6a249m8ov",
    "outputId": "49254337-6fe7-4ced-ef20-bc67c6866768"
   },
   "outputs": [],
   "source": [
    "xvalidation, yvalidation = split_sequences(dataset_validation, n_steps)\n",
    "print(xvalidation.shape, yvalidation.shape)"
   ]
  },
  {
   "cell_type": "markdown",
   "metadata": {
    "id": "K6UWCj5af9OL"
   },
   "source": [
    "Datos de prueba"
   ]
  },
  {
   "cell_type": "code",
   "execution_count": null,
   "metadata": {
    "colab": {
     "base_uri": "https://localhost:8080/"
    },
    "id": "VCDP4q4Em94S",
    "outputId": "f6b0e1e9-38c1-4195-d100-7e40292ad97f"
   },
   "outputs": [],
   "source": [
    "xtest, ytest = split_sequences(dataset_test, n_steps)\n",
    "print(xtest.shape, ytest.shape)"
   ]
  },
  {
   "cell_type": "markdown",
   "metadata": {
    "id": "vhKcWOS7n2bH"
   },
   "source": [
    "# Creación del Modelo"
   ]
  },
  {
   "cell_type": "code",
   "execution_count": null,
   "metadata": {
    "id": "O6kivL8OkYqK"
   },
   "outputs": [],
   "source": [
    "from tensorflow import keras\n",
    "from tensorflow.keras import layers"
   ]
  },
  {
   "cell_type": "code",
   "execution_count": null,
   "metadata": {
    "id": "7v5iv82TkgxK"
   },
   "outputs": [],
   "source": [
    "def transformer_encoder(inputs, head_size, num_heads, ff_dim, dropout=0):\n",
    "    # Normalization and Attention\n",
    "    #x = layers.LayerNormalization(epsilon=1e-6)(inputs)\n",
    "    x = inputs\n",
    "    x = layers.MultiHeadAttention(key_dim=head_size, num_heads=num_heads, dropout=dropout)(x, x)\n",
    "    x = layers.Dropout(dropout)(x)\n",
    "    res = x + inputs\n",
    "\n",
    "    # Feed Forward Part\n",
    "    x = layers.LayerNormalization(epsilon=1e-6)(res)\n",
    "    x = layers.Conv1D(filters=ff_dim, kernel_size=1, activation=\"relu\")(x)\n",
    "    x = layers.Dropout(dropout)(x)\n",
    "    x = layers.Conv1D(filters=inputs.shape[-1], kernel_size=1)(x)\n",
    "    \n",
    "    return x + res"
   ]
  },
  {
   "cell_type": "code",
   "execution_count": null,
   "metadata": {
    "id": "V00ylpxWnZst"
   },
   "outputs": [],
   "source": [
    "def build_model(\n",
    "    input_shape,\n",
    "    head_size,\n",
    "    num_heads,\n",
    "    ff_dim,\n",
    "    num_transformer_blocks,\n",
    "    mlp_units,\n",
    "    dropout=0,\n",
    "    mlp_dropout=0):\n",
    "    \n",
    "    inputs = keras.Input(shape=input_shape)\n",
    "    x = inputs \n",
    "    for _ in range(num_transformer_blocks):\n",
    "        x = transformer_encoder(x, head_size, num_heads, ff_dim, dropout)\n",
    "    x = layers.GlobalAveragePooling1D(data_format=\"channels_first\")(x)\n",
    "    for dim in mlp_units:\n",
    "        x = layers.Dense(dim, activation=\"relu\")(x)\n",
    "        x = layers.Dropout(mlp_dropout)(x)\n",
    "    outputs = layers.Dense(1)(x)\n",
    "    \n",
    "    return keras.Model(inputs, outputs)"
   ]
  },
  {
   "cell_type": "markdown",
   "metadata": {
    "id": "7u3tizkTqRac"
   },
   "source": [
    "## Entrenamiento del Modelo"
   ]
  },
  {
   "cell_type": "code",
   "execution_count": null,
   "metadata": {
    "colab": {
     "base_uri": "https://localhost:8080/"
    },
    "id": "DQdlW5Dbo73p",
    "outputId": "15dcce0a-2882-44d4-b912-a7c8d25ba940",
    "scrolled": true
   },
   "outputs": [],
   "source": [
    "input_shape = xtrain.shape[1:]\n",
    "\n",
    "model = build_model(\n",
    "    input_shape,\n",
    "    head_size=256,\n",
    "    num_heads=4,\n",
    "    ff_dim=4,\n",
    "    num_transformer_blocks=4,\n",
    "    mlp_units=[100],\n",
    "    #mlp_dropout=0.2,\n",
    "    dropout=0.3,\n",
    ")"
   ]
  },
  {
   "cell_type": "code",
   "execution_count": null,
   "metadata": {},
   "outputs": [],
   "source": [
    "model.compile(\n",
    "    loss=\"mean_squared_error\",\n",
    "    optimizer=keras.optimizers.Adam(learning_rate=1e-3),\n",
    ")"
   ]
  },
  {
   "cell_type": "code",
   "execution_count": null,
   "metadata": {},
   "outputs": [],
   "source": [
    "callbacks = [keras.callbacks.EarlyStopping(patience=40, restore_best_weights=True)]"
   ]
  },
  {
   "cell_type": "code",
   "execution_count": null,
   "metadata": {},
   "outputs": [],
   "source": [
    "history = model.fit(\n",
    "    xtrain,\n",
    "    ytrain,\n",
    "    #validation_split=0.2,\n",
    "    validation_data=(xvalidation, yvalidation),\n",
    "    epochs=100,\n",
    "    batch_size=64,\n",
    "    callbacks=callbacks,\n",
    ")"
   ]
  },
  {
   "cell_type": "code",
   "execution_count": null,
   "metadata": {
    "colab": {
     "base_uri": "https://localhost:8080/",
     "height": 235
    },
    "id": "nj8zLT6rP5nN",
    "outputId": "93ca6321-0193-4089-d039-d17e47b0f4e1"
   },
   "outputs": [],
   "source": [
    "loss = history.history['loss']\n",
    "val_loss = history.history['val_loss']"
   ]
  },
  {
   "cell_type": "code",
   "execution_count": null,
   "metadata": {},
   "outputs": [],
   "source": [
    "import seaborn as sns\n",
    "sns.set_theme(palette=\"ch:s=.25,rot=-.25\")\n",
    "fig,ax = plt.subplots(figsize=(8,8))\n",
    "sns.lineplot(data=loss, ax = ax, color=\"b\", label='Training Loss')\n",
    "sns.lineplot(data=val_loss, ax = ax, color=\"r\", label='Validation Loss')\n",
    "ax.set_xlabel(\"Épocas\")\n",
    "ax.set_ylabel(\"Loss\")\n",
    "plt.savefig(\"../Training plots/model_WT2346_v3.png\")"
   ]
  },
  {
   "cell_type": "code",
   "execution_count": null,
   "metadata": {},
   "outputs": [],
   "source": [
    "model.save('../Models/model_WT2346_v4.h5')"
   ]
  }
 ],
 "metadata": {
  "accelerator": "GPU",
  "colab": {
   "provenance": []
  },
  "gpuClass": "standard",
  "kernelspec": {
   "display_name": "Python 3 (ipykernel)",
   "language": "python",
   "name": "python3"
  },
  "language_info": {
   "codemirror_mode": {
    "name": "ipython",
    "version": 3
   },
   "file_extension": ".py",
   "mimetype": "text/x-python",
   "name": "python",
   "nbconvert_exporter": "python",
   "pygments_lexer": "ipython3",
   "version": "3.10.5"
  }
 },
 "nbformat": 4,
 "nbformat_minor": 1
}
